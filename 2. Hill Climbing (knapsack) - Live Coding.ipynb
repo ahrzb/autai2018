{
 "cells": [
  {
   "cell_type": "markdown",
   "metadata": {
    "ExecuteTime": {
     "end_time": "2018-03-11T08:54:17.600154Z",
     "start_time": "2018-03-11T08:54:17.597660Z"
    }
   },
   "source": [
    "# Hill Climbing"
   ]
  },
  {
   "cell_type": "code",
   "execution_count": 1,
   "metadata": {
    "ExecuteTime": {
     "end_time": "2018-03-11T20:27:43.622931Z",
     "start_time": "2018-03-11T20:27:43.620147Z"
    }
   },
   "outputs": [],
   "source": [
    "import random\n",
    "from collections import namedtuple"
   ]
  },
  {
   "cell_type": "code",
   "execution_count": 2,
   "metadata": {
    "ExecuteTime": {
     "end_time": "2018-03-11T20:27:43.772675Z",
     "start_time": "2018-03-11T20:27:43.769033Z"
    }
   },
   "outputs": [],
   "source": [
    "random.seed(42)"
   ]
  },
  {
   "cell_type": "markdown",
   "metadata": {},
   "source": [
    "## Cookbook"
   ]
  },
  {
   "cell_type": "markdown",
   "metadata": {},
   "source": [
    "### List comprehentions"
   ]
  },
  {
   "cell_type": "code",
   "execution_count": 3,
   "metadata": {
    "ExecuteTime": {
     "end_time": "2018-03-11T20:27:44.248197Z",
     "start_time": "2018-03-11T20:27:44.235845Z"
    }
   },
   "outputs": [
    {
     "data": {
      "text/plain": [
       "[0, 1, 2]"
      ]
     },
     "execution_count": 3,
     "metadata": {},
     "output_type": "execute_result"
    }
   ],
   "source": [
    "[x for x in range(3)]"
   ]
  },
  {
   "cell_type": "code",
   "execution_count": 4,
   "metadata": {
    "ExecuteTime": {
     "end_time": "2018-03-11T20:27:44.413141Z",
     "start_time": "2018-03-11T20:27:44.407280Z"
    }
   },
   "outputs": [
    {
     "data": {
      "text/plain": [
       "[(0, 0), (0, 1), (0, 2), (1, 0), (1, 1), (1, 2), (2, 0), (2, 1), (2, 2)]"
      ]
     },
     "execution_count": 4,
     "metadata": {},
     "output_type": "execute_result"
    }
   ],
   "source": [
    "[\n",
    "    (x, y)\n",
    "    for x in range(3)\n",
    "    for y in range(3)\n",
    "]"
   ]
  },
  {
   "cell_type": "markdown",
   "metadata": {},
   "source": [
    "### list#remove"
   ]
  },
  {
   "cell_type": "code",
   "execution_count": 5,
   "metadata": {
    "ExecuteTime": {
     "end_time": "2018-03-11T20:27:44.756292Z",
     "start_time": "2018-03-11T20:27:44.752884Z"
    }
   },
   "outputs": [],
   "source": [
    "l = 'computer science is no more about computers than astronomy is about telescopes'.split()\n",
    "# __ by Edsger W. Dijkstra"
   ]
  },
  {
   "cell_type": "code",
   "execution_count": 6,
   "metadata": {
    "ExecuteTime": {
     "end_time": "2018-03-11T20:27:44.932418Z",
     "start_time": "2018-03-11T20:27:44.927766Z"
    }
   },
   "outputs": [
    {
     "data": {
      "text/plain": [
       "['computer',\n",
       " 'science',\n",
       " 'is',\n",
       " 'no',\n",
       " 'more',\n",
       " 'about',\n",
       " 'computers',\n",
       " 'than',\n",
       " 'astronomy',\n",
       " 'is',\n",
       " 'about',\n",
       " 'telescopes']"
      ]
     },
     "execution_count": 6,
     "metadata": {},
     "output_type": "execute_result"
    }
   ],
   "source": [
    "l"
   ]
  },
  {
   "cell_type": "code",
   "execution_count": 7,
   "metadata": {
    "ExecuteTime": {
     "end_time": "2018-03-11T20:27:45.105970Z",
     "start_time": "2018-03-11T20:27:45.102727Z"
    }
   },
   "outputs": [],
   "source": [
    "l.remove('is')"
   ]
  },
  {
   "cell_type": "code",
   "execution_count": 8,
   "metadata": {
    "ExecuteTime": {
     "end_time": "2018-03-11T20:27:45.295791Z",
     "start_time": "2018-03-11T20:27:45.290714Z"
    }
   },
   "outputs": [
    {
     "data": {
      "text/plain": [
       "['computer',\n",
       " 'science',\n",
       " 'no',\n",
       " 'more',\n",
       " 'about',\n",
       " 'computers',\n",
       " 'than',\n",
       " 'astronomy',\n",
       " 'is',\n",
       " 'about',\n",
       " 'telescopes']"
      ]
     },
     "execution_count": 8,
     "metadata": {},
     "output_type": "execute_result"
    }
   ],
   "source": [
    "l"
   ]
  },
  {
   "cell_type": "markdown",
   "metadata": {},
   "source": [
    "### random"
   ]
  },
  {
   "cell_type": "code",
   "execution_count": 9,
   "metadata": {
    "ExecuteTime": {
     "end_time": "2018-03-11T20:27:45.670697Z",
     "start_time": "2018-03-11T20:27:45.667778Z"
    }
   },
   "outputs": [],
   "source": [
    "random.seed(42) # run this to make your code reproducible"
   ]
  },
  {
   "cell_type": "code",
   "execution_count": null,
   "metadata": {},
   "outputs": [],
   "source": []
  },
  {
   "cell_type": "code",
   "execution_count": 10,
   "metadata": {
    "ExecuteTime": {
     "end_time": "2018-03-11T20:27:46.260603Z",
     "start_time": "2018-03-11T20:27:46.251826Z"
    }
   },
   "outputs": [
    {
     "name": "stdout",
     "output_type": "stream",
     "text": [
      "0.6394267984578837\n",
      "0.025010755222666936\n",
      "0.27502931836911926\n",
      "0.22321073814882275\n",
      "0.7364712141640124\n"
     ]
    }
   ],
   "source": [
    "print(random.random()) # returns a random number in the interval [0, 1).\n",
    "print(random.random())\n",
    "print(random.random())\n",
    "print(random.random())\n",
    "print(random.random())"
   ]
  },
  {
   "cell_type": "code",
   "execution_count": 11,
   "metadata": {
    "ExecuteTime": {
     "end_time": "2018-03-11T20:27:46.503949Z",
     "start_time": "2018-03-11T20:27:46.497634Z"
    }
   },
   "outputs": [
    {
     "name": "stdout",
     "output_type": "stream",
     "text": [
      "False\n",
      "False\n",
      "True\n",
      "False\n",
      "True\n"
     ]
    }
   ],
   "source": [
    "print(random.random() < 0.3) # true 30% of times\n",
    "print(random.random() < 0.3)\n",
    "print(random.random() < 0.3)\n",
    "print(random.random() < 0.3)\n",
    "print(random.random() < 0.3)"
   ]
  },
  {
   "cell_type": "code",
   "execution_count": 12,
   "metadata": {
    "ExecuteTime": {
     "end_time": "2018-03-11T20:27:46.702726Z",
     "start_time": "2018-03-11T20:27:46.695800Z"
    }
   },
   "outputs": [
    {
     "name": "stdout",
     "output_type": "stream",
     "text": [
      "more\n",
      "more\n",
      "is\n",
      "about\n",
      "computer\n"
     ]
    }
   ],
   "source": [
    "print(random.choice(l)) # chooses a number from l at random\n",
    "print(random.choice(l))\n",
    "print(random.choice(l))\n",
    "print(random.choice(l))\n",
    "print(random.choice(l))"
   ]
  },
  {
   "cell_type": "code",
   "execution_count": 13,
   "metadata": {
    "ExecuteTime": {
     "end_time": "2018-03-11T20:27:46.927054Z",
     "start_time": "2018-03-11T20:27:46.915849Z"
    }
   },
   "outputs": [
    {
     "name": "stdout",
     "output_type": "stream",
     "text": [
      "['is', 'more']\n",
      "['telescopes', 'is']\n",
      "['than', 'more']\n",
      "['astronomy', 'about']\n",
      "['about', 'computer']\n"
     ]
    }
   ],
   "source": [
    "print(random.sample(l, k=2)) # chooses k=2 numbers from l at random\n",
    "print(random.sample(l, k=2))\n",
    "print(random.sample(l, k=2))\n",
    "print(random.sample(l, k=2))\n",
    "print(random.sample(l, k=2))"
   ]
  },
  {
   "cell_type": "markdown",
   "metadata": {},
   "source": [
    "### _global_"
   ]
  },
  {
   "cell_type": "code",
   "execution_count": 14,
   "metadata": {
    "ExecuteTime": {
     "end_time": "2018-03-11T20:27:47.385922Z",
     "start_time": "2018-03-11T20:27:47.378494Z"
    }
   },
   "outputs": [
    {
     "name": "stdout",
     "output_type": "stream",
     "text": [
      "read  0\n"
     ]
    }
   ],
   "source": [
    "x = 0\n",
    "def f(): # You can read global variables\n",
    "    print('read ', x)\n",
    "f()"
   ]
  },
  {
   "cell_type": "code",
   "execution_count": 15,
   "metadata": {
    "ExecuteTime": {
     "end_time": "2018-03-11T20:27:47.727218Z",
     "start_time": "2018-03-11T20:27:47.638491Z"
    }
   },
   "outputs": [
    {
     "ename": "UnboundLocalError",
     "evalue": "local variable 'x' referenced before assignment",
     "output_type": "error",
     "traceback": [
      "\u001b[0;31m---------------------------------------------------------------------------\u001b[0m",
      "\u001b[0;31mUnboundLocalError\u001b[0m                         Traceback (most recent call last)",
      "\u001b[0;32m<ipython-input-15-b0f1f546b3af>\u001b[0m in \u001b[0;36m<module>\u001b[0;34m()\u001b[0m\n\u001b[1;32m      3\u001b[0m     \u001b[0mprint\u001b[0m\u001b[0;34m(\u001b[0m\u001b[0;34m'read '\u001b[0m\u001b[0;34m,\u001b[0m \u001b[0mx\u001b[0m\u001b[0;34m)\u001b[0m\u001b[0;34m\u001b[0m\u001b[0m\n\u001b[1;32m      4\u001b[0m     \u001b[0mx\u001b[0m \u001b[0;34m=\u001b[0m \u001b[0mx\u001b[0m \u001b[0;34m+\u001b[0m \u001b[0;36m1\u001b[0m\u001b[0;34m\u001b[0m\u001b[0m\n\u001b[0;32m----> 5\u001b[0;31m \u001b[0mf\u001b[0m\u001b[0;34m(\u001b[0m\u001b[0;34m)\u001b[0m\u001b[0;34m\u001b[0m\u001b[0m\n\u001b[0m\u001b[1;32m      6\u001b[0m \u001b[0mprint\u001b[0m\u001b[0;34m(\u001b[0m\u001b[0mx\u001b[0m\u001b[0;34m)\u001b[0m\u001b[0;34m\u001b[0m\u001b[0m\n",
      "\u001b[0;32m<ipython-input-15-b0f1f546b3af>\u001b[0m in \u001b[0;36mf\u001b[0;34m()\u001b[0m\n\u001b[1;32m      1\u001b[0m \u001b[0mx\u001b[0m \u001b[0;34m=\u001b[0m \u001b[0;36m0\u001b[0m\u001b[0;34m\u001b[0m\u001b[0m\n\u001b[1;32m      2\u001b[0m \u001b[0;32mdef\u001b[0m \u001b[0mf\u001b[0m\u001b[0;34m(\u001b[0m\u001b[0;34m)\u001b[0m\u001b[0;34m:\u001b[0m \u001b[0;31m# but you can only can not change them(why UnboundLocalError? I'll explain)\u001b[0m\u001b[0;34m\u001b[0m\u001b[0m\n\u001b[0;32m----> 3\u001b[0;31m     \u001b[0mprint\u001b[0m\u001b[0;34m(\u001b[0m\u001b[0;34m'read '\u001b[0m\u001b[0;34m,\u001b[0m \u001b[0mx\u001b[0m\u001b[0;34m)\u001b[0m\u001b[0;34m\u001b[0m\u001b[0m\n\u001b[0m\u001b[1;32m      4\u001b[0m     \u001b[0mx\u001b[0m \u001b[0;34m=\u001b[0m \u001b[0mx\u001b[0m \u001b[0;34m+\u001b[0m \u001b[0;36m1\u001b[0m\u001b[0;34m\u001b[0m\u001b[0m\n\u001b[1;32m      5\u001b[0m \u001b[0mf\u001b[0m\u001b[0;34m(\u001b[0m\u001b[0;34m)\u001b[0m\u001b[0;34m\u001b[0m\u001b[0m\n",
      "\u001b[0;31mUnboundLocalError\u001b[0m: local variable 'x' referenced before assignment"
     ]
    }
   ],
   "source": [
    "x = 0\n",
    "def f(): # but you can only can not change them(why UnboundLocalError? I'll explain)\n",
    "    print('read ', x)\n",
    "    x = x + 1\n",
    "f()\n",
    "print(x)"
   ]
  },
  {
   "cell_type": "code",
   "execution_count": 16,
   "metadata": {
    "ExecuteTime": {
     "end_time": "2018-03-11T20:27:47.892364Z",
     "start_time": "2018-03-11T20:27:47.885045Z"
    }
   },
   "outputs": [
    {
     "name": "stdout",
     "output_type": "stream",
     "text": [
      "read  0\n",
      "1\n"
     ]
    }
   ],
   "source": [
    "x = 0\n",
    "def f(): # but if you mark them as globals...\n",
    "    global x\n",
    "    print('read ', x)\n",
    "    x = x + 1\n",
    "f()\n",
    "print(x)"
   ]
  },
  {
   "cell_type": "code",
   "execution_count": 17,
   "metadata": {
    "ExecuteTime": {
     "end_time": "2018-03-11T20:27:48.704900Z",
     "start_time": "2018-03-11T20:27:48.698633Z"
    }
   },
   "outputs": [
    {
     "name": "stdout",
     "output_type": "stream",
     "text": [
      "\n"
     ]
    }
   ],
   "source": [
    "x = 0\n",
    "def f():\n",
    "    global x\n",
    "    x = x + 1\n",
    "f()\n",
    "print()"
   ]
  },
  {
   "cell_type": "markdown",
   "metadata": {},
   "source": [
    "### Nested functions and _nonlocal_"
   ]
  },
  {
   "cell_type": "code",
   "execution_count": 18,
   "metadata": {
    "ExecuteTime": {
     "end_time": "2018-03-11T20:27:49.418021Z",
     "start_time": "2018-03-11T20:27:49.411272Z"
    }
   },
   "outputs": [
    {
     "name": "stdout",
     "output_type": "stream",
     "text": [
      "Hi!\n",
      "Hi!\n",
      "Hi!\n"
     ]
    }
   ],
   "source": [
    "def f(): # You can define functions withing functions(within function within functions...)\n",
    "    def g():\n",
    "        print('Hi!')\n",
    "    g()\n",
    "    g()\n",
    "    g()\n",
    "\n",
    "f()"
   ]
  },
  {
   "cell_type": "code",
   "execution_count": 19,
   "metadata": {
    "ExecuteTime": {
     "end_time": "2018-03-11T20:27:50.581972Z",
     "start_time": "2018-03-11T20:27:50.569768Z"
    }
   },
   "outputs": [
    {
     "name": "stdout",
     "output_type": "stream",
     "text": [
      "HI!\n",
      "HI!\n",
      "HI!\n"
     ]
    }
   ],
   "source": [
    "def f():\n",
    "    message = 'HI!'\n",
    "    def g(): # You can read messages from outer scope\n",
    "        print(message)\n",
    "    g()\n",
    "    g()\n",
    "    g()\n",
    "\n",
    "f()"
   ]
  },
  {
   "cell_type": "code",
   "execution_count": 20,
   "metadata": {
    "ExecuteTime": {
     "end_time": "2018-03-11T20:27:51.050700Z",
     "start_time": "2018-03-11T20:27:51.027125Z"
    }
   },
   "outputs": [
    {
     "ename": "UnboundLocalError",
     "evalue": "local variable 'message' referenced before assignment",
     "output_type": "error",
     "traceback": [
      "\u001b[0;31m---------------------------------------------------------------------------\u001b[0m",
      "\u001b[0;31mUnboundLocalError\u001b[0m                         Traceback (most recent call last)",
      "\u001b[0;32m<ipython-input-20-0a4030e425db>\u001b[0m in \u001b[0;36m<module>\u001b[0;34m()\u001b[0m\n\u001b[1;32m      8\u001b[0m     \u001b[0mg\u001b[0m\u001b[0;34m(\u001b[0m\u001b[0;34m)\u001b[0m\u001b[0;34m\u001b[0m\u001b[0m\n\u001b[1;32m      9\u001b[0m \u001b[0;34m\u001b[0m\u001b[0m\n\u001b[0;32m---> 10\u001b[0;31m \u001b[0mf\u001b[0m\u001b[0;34m(\u001b[0m\u001b[0;34m)\u001b[0m\u001b[0;34m\u001b[0m\u001b[0m\n\u001b[0m",
      "\u001b[0;32m<ipython-input-20-0a4030e425db>\u001b[0m in \u001b[0;36mf\u001b[0;34m()\u001b[0m\n\u001b[1;32m      4\u001b[0m         \u001b[0mprint\u001b[0m\u001b[0;34m(\u001b[0m\u001b[0mmessage\u001b[0m\u001b[0;34m)\u001b[0m\u001b[0;34m\u001b[0m\u001b[0m\n\u001b[1;32m      5\u001b[0m         \u001b[0mmessage\u001b[0m \u001b[0;34m=\u001b[0m \u001b[0;34m'hi'\u001b[0m\u001b[0;34m\u001b[0m\u001b[0m\n\u001b[0;32m----> 6\u001b[0;31m     \u001b[0mg\u001b[0m\u001b[0;34m(\u001b[0m\u001b[0;34m)\u001b[0m\u001b[0;34m\u001b[0m\u001b[0m\n\u001b[0m\u001b[1;32m      7\u001b[0m     \u001b[0mg\u001b[0m\u001b[0;34m(\u001b[0m\u001b[0;34m)\u001b[0m\u001b[0;34m\u001b[0m\u001b[0m\n\u001b[1;32m      8\u001b[0m     \u001b[0mg\u001b[0m\u001b[0;34m(\u001b[0m\u001b[0;34m)\u001b[0m\u001b[0;34m\u001b[0m\u001b[0m\n",
      "\u001b[0;32m<ipython-input-20-0a4030e425db>\u001b[0m in \u001b[0;36mg\u001b[0;34m()\u001b[0m\n\u001b[1;32m      2\u001b[0m     \u001b[0mmessage\u001b[0m \u001b[0;34m=\u001b[0m \u001b[0;34m'HI!'\u001b[0m\u001b[0;34m\u001b[0m\u001b[0m\n\u001b[1;32m      3\u001b[0m     \u001b[0;32mdef\u001b[0m \u001b[0mg\u001b[0m\u001b[0;34m(\u001b[0m\u001b[0;34m)\u001b[0m\u001b[0;34m:\u001b[0m \u001b[0;31m# But if you assign them...\u001b[0m\u001b[0;34m\u001b[0m\u001b[0m\n\u001b[0;32m----> 4\u001b[0;31m         \u001b[0mprint\u001b[0m\u001b[0;34m(\u001b[0m\u001b[0mmessage\u001b[0m\u001b[0;34m)\u001b[0m\u001b[0;34m\u001b[0m\u001b[0m\n\u001b[0m\u001b[1;32m      5\u001b[0m         \u001b[0mmessage\u001b[0m \u001b[0;34m=\u001b[0m \u001b[0;34m'hi'\u001b[0m\u001b[0;34m\u001b[0m\u001b[0m\n\u001b[1;32m      6\u001b[0m     \u001b[0mg\u001b[0m\u001b[0;34m(\u001b[0m\u001b[0;34m)\u001b[0m\u001b[0;34m\u001b[0m\u001b[0m\n",
      "\u001b[0;31mUnboundLocalError\u001b[0m: local variable 'message' referenced before assignment"
     ]
    }
   ],
   "source": [
    "def f():\n",
    "    message = 'HI!'\n",
    "    def g(): # But if you assign them...\n",
    "        print(message)\n",
    "        message = 'hi'\n",
    "    g()\n",
    "    g()\n",
    "    g()\n",
    "\n",
    "f()"
   ]
  },
  {
   "cell_type": "code",
   "execution_count": 21,
   "metadata": {
    "ExecuteTime": {
     "end_time": "2018-03-11T20:27:52.330141Z",
     "start_time": "2018-03-11T20:27:52.320526Z"
    }
   },
   "outputs": [
    {
     "name": "stdout",
     "output_type": "stream",
     "text": [
      "HI!\n",
      "hi\n",
      "hi\n"
     ]
    }
   ],
   "source": [
    "def f():\n",
    "    message = 'HI!'\n",
    "    def g(): # nonlocal to the rescue\n",
    "        nonlocal message\n",
    "        print(message)\n",
    "        message = 'hi'\n",
    "    g()\n",
    "    g()\n",
    "    g()\n",
    "\n",
    "f()"
   ]
  },
  {
   "cell_type": "markdown",
   "metadata": {},
   "source": [
    "## Knapsack Problem"
   ]
  },
  {
   "cell_type": "markdown",
   "metadata": {},
   "source": [
    "![knapsack](https://upload.wikimedia.org/wikipedia/commons/thumb/f/fd/Knapsack.svg/250px-Knapsack.svg.png)\n",
    "\n",
    "The knapsack problem or rucksack problem is a problem in combinatorial optimization: Given a set of items, each with a weight and a value, determine the number of each item to include in a collection so that the total weight is less than or equal to a given limit and the total value is as large as possible. It derives its name from the problem faced by someone who is constrained by a fixed-size knapsack and must fill it with the most valuable items.\n",
    "\n",
    "[_From Wikipedia, the free encyclopedia_](From Wikipedia, the free encyclopedia)"
   ]
  },
  {
   "cell_type": "markdown",
   "metadata": {},
   "source": [
    "### Inputs"
   ]
  },
  {
   "cell_type": "markdown",
   "metadata": {},
   "source": [
    "* Input items\n",
    "* Maximum weight"
   ]
  },
  {
   "cell_type": "code",
   "execution_count": 22,
   "metadata": {
    "ExecuteTime": {
     "end_time": "2018-03-11T20:27:54.816279Z",
     "start_time": "2018-03-11T20:27:54.812895Z"
    }
   },
   "outputs": [],
   "source": [
    "Item = namedtuple('Item', 'value weight')"
   ]
  },
  {
   "cell_type": "code",
   "execution_count": 23,
   "metadata": {
    "ExecuteTime": {
     "end_time": "2018-03-11T20:27:55.045056Z",
     "start_time": "2018-03-11T20:27:55.039164Z"
    }
   },
   "outputs": [
    {
     "data": {
      "text/plain": [
       "Item(value=10, weight=2)"
      ]
     },
     "execution_count": 23,
     "metadata": {},
     "output_type": "execute_result"
    }
   ],
   "source": [
    "Item(value=10, weight=2)"
   ]
  },
  {
   "cell_type": "code",
   "execution_count": null,
   "metadata": {},
   "outputs": [],
   "source": []
  },
  {
   "cell_type": "code",
   "execution_count": 24,
   "metadata": {
    "ExecuteTime": {
     "end_time": "2018-03-11T20:27:56.021287Z",
     "start_time": "2018-03-11T20:27:55.965329Z"
    }
   },
   "outputs": [],
   "source": [
    "items = [\n",
    "    Item(\n",
    "        value=max(0, random.gauss(5, 3)), \n",
    "        weight=max(0.1, random.gauss(10, 10))\n",
    "    )\n",
    "    for i in range(10000)\n",
    "]"
   ]
  },
  {
   "cell_type": "code",
   "execution_count": 25,
   "metadata": {
    "ExecuteTime": {
     "end_time": "2018-03-11T20:27:56.382072Z",
     "start_time": "2018-03-11T20:27:56.377549Z"
    }
   },
   "outputs": [],
   "source": [
    "max_weight = 120"
   ]
  },
  {
   "cell_type": "code",
   "execution_count": null,
   "metadata": {},
   "outputs": [],
   "source": []
  },
  {
   "cell_type": "code",
   "execution_count": 26,
   "metadata": {
    "ExecuteTime": {
     "end_time": "2018-03-11T20:27:57.342544Z",
     "start_time": "2018-03-11T20:27:57.337037Z"
    }
   },
   "outputs": [
    {
     "data": {
      "text/plain": [
       "[Item(value=5.097870121296177, weight=4.110759788076699),\n",
       " Item(value=2.8598281099596248, weight=13.770646187017395),\n",
       " Item(value=6.101487786158066, weight=26.57937309512181),\n",
       " Item(value=7.34868310612216, weight=15.85588173554841),\n",
       " Item(value=3.2578371335610443, weight=17.112082423989964),\n",
       " Item(value=4.918528003349488, weight=12.968296489522924),\n",
       " Item(value=3.5008827432091025, weight=11.302291972593874),\n",
       " Item(value=6.073473923777699, weight=8.099521685906998),\n",
       " Item(value=3.868417476314377, weight=23.56056837947524),\n",
       " Item(value=7.137439081142394, weight=3.754498532159464)]"
      ]
     },
     "execution_count": 26,
     "metadata": {},
     "output_type": "execute_result"
    }
   ],
   "source": [
    "items[:10]"
   ]
  },
  {
   "cell_type": "code",
   "execution_count": null,
   "metadata": {},
   "outputs": [],
   "source": []
  },
  {
   "cell_type": "markdown",
   "metadata": {},
   "source": [
    "### Elements"
   ]
  },
  {
   "cell_type": "code",
   "execution_count": 27,
   "metadata": {
    "ExecuteTime": {
     "end_time": "2018-03-11T20:27:59.639659Z",
     "start_time": "2018-03-11T20:27:59.634069Z"
    }
   },
   "outputs": [],
   "source": [
    "desk = list(items)\n",
    "\n",
    "knapsack = []\n",
    "knapsack_weight = 0\n",
    "knapsack_value = 0"
   ]
  },
  {
   "cell_type": "code",
   "execution_count": null,
   "metadata": {},
   "outputs": [],
   "source": []
  },
  {
   "cell_type": "code",
   "execution_count": 28,
   "metadata": {
    "ExecuteTime": {
     "end_time": "2018-03-11T20:28:00.894554Z",
     "start_time": "2018-03-11T20:28:00.889806Z"
    }
   },
   "outputs": [],
   "source": [
    "# Moving from desk to knapsack\n",
    "item = desk.pop()\n",
    "knapsack.append(item)\n",
    "knapsack_weight += item.weight\n",
    "knapsack_value += item.value"
   ]
  },
  {
   "cell_type": "code",
   "execution_count": 29,
   "metadata": {
    "ExecuteTime": {
     "end_time": "2018-03-11T20:28:01.637689Z",
     "start_time": "2018-03-11T20:28:01.631434Z"
    }
   },
   "outputs": [],
   "source": [
    "# Moving from knapsack to desk\n",
    "item = knapsack.pop()\n",
    "desk.append(item)\n",
    "knapsack_weight -= item.weight\n",
    "knapsack_value -= item.value"
   ]
  },
  {
   "cell_type": "code",
   "execution_count": null,
   "metadata": {},
   "outputs": [],
   "source": []
  },
  {
   "cell_type": "markdown",
   "metadata": {},
   "source": [
    "### Hill Climbing: A single step"
   ]
  },
  {
   "cell_type": "markdown",
   "metadata": {},
   "source": [
    "In our formulation an action is considered as removing an item _ki_ from the knapsack and moving item _di_ from the desk to the knapsack."
   ]
  },
  {
   "cell_type": "code",
   "execution_count": 30,
   "metadata": {
    "ExecuteTime": {
     "end_time": "2018-03-11T20:28:03.771545Z",
     "start_time": "2018-03-11T20:28:03.763423Z"
    }
   },
   "outputs": [],
   "source": [
    "# Actions are of the form (ki, di, new_value)\n",
    "actions = [\n",
    "    (ki, di, knapsack_value + di.value - ki.value)\n",
    "    for ki in knapsack\n",
    "    for di in desk\n",
    "    if knapsack_weight - ki.weight + di.weight < max_weight\n",
    "]"
   ]
  },
  {
   "cell_type": "code",
   "execution_count": 31,
   "metadata": {
    "ExecuteTime": {
     "end_time": "2018-03-11T20:28:04.376106Z",
     "start_time": "2018-03-11T20:28:04.362249Z"
    }
   },
   "outputs": [],
   "source": [
    "# But we do not necessarily need to remove an item from the knapsack\n",
    "actions.extend(\n",
    "    (None, di, knapsack_value + di.value)\n",
    "    for di in desk\n",
    "    if knapsack_weight + di.weight < max_weight\n",
    ")"
   ]
  },
  {
   "cell_type": "code",
   "execution_count": 32,
   "metadata": {
    "ExecuteTime": {
     "end_time": "2018-03-11T20:28:05.275061Z",
     "start_time": "2018-03-11T20:28:05.264343Z"
    }
   },
   "outputs": [],
   "source": [
    "# Finding the most valuable action\n",
    "max_v = knapsack_value\n",
    "max_ki = None\n",
    "max_di = None\n",
    "for ki, di, v in actions:\n",
    "    if v > max_v:\n",
    "        max_v = v\n",
    "        max_ki = ki\n",
    "        max_di = di"
   ]
  },
  {
   "cell_type": "code",
   "execution_count": 33,
   "metadata": {
    "ExecuteTime": {
     "end_time": "2018-03-11T20:28:05.838323Z",
     "start_time": "2018-03-11T20:28:05.832837Z"
    }
   },
   "outputs": [
    {
     "name": "stdout",
     "output_type": "stream",
     "text": [
      "Value:\t0.0\n",
      "Weight:\t0.0\n"
     ]
    }
   ],
   "source": [
    "print(f'Value:\\t{knapsack_value}')\n",
    "print(f'Weight:\\t{knapsack_weight}')"
   ]
  },
  {
   "cell_type": "code",
   "execution_count": 34,
   "metadata": {
    "ExecuteTime": {
     "end_time": "2018-03-11T20:28:07.089999Z",
     "start_time": "2018-03-11T20:28:07.078908Z"
    }
   },
   "outputs": [],
   "source": [
    "# Performing the action\n",
    "if max_di is not None:\n",
    "    desk.remove(max_di)\n",
    "    knapsack.append(max_di)\n",
    "    knapsack_weight += max_di.weight\n",
    "    knapsack_value += max_di.value\n",
    "if max_ki is not None:\n",
    "    knapsack.remove(max_ki)\n",
    "    desk.append(max_ki)\n",
    "    knapsack_weight -= max_ki.weight\n",
    "    knapsack_value -= max_ki.value"
   ]
  },
  {
   "cell_type": "code",
   "execution_count": 35,
   "metadata": {
    "ExecuteTime": {
     "end_time": "2018-03-11T20:28:09.470377Z",
     "start_time": "2018-03-11T20:28:09.464073Z"
    }
   },
   "outputs": [
    {
     "name": "stdout",
     "output_type": "stream",
     "text": [
      "Value:\t16.58239338802688\n",
      "Weight:\t11.783649467897803\n"
     ]
    }
   ],
   "source": [
    "print(f'Value:\\t{knapsack_value}')\n",
    "print(f'Weight:\\t{knapsack_weight}')"
   ]
  },
  {
   "cell_type": "code",
   "execution_count": null,
   "metadata": {},
   "outputs": [],
   "source": []
  },
  {
   "cell_type": "code",
   "execution_count": null,
   "metadata": {
    "ExecuteTime": {
     "end_time": "2018-03-11T20:26:55.297445Z",
     "start_time": "2018-03-11T20:26:55.287485Z"
    }
   },
   "outputs": [],
   "source": [
    "# Greedy best-first\n",
    "max_v = knapsack_value\n",
    "max_ki = None\n",
    "max_di = None\n",
    "for ki, di, v in actions:\n",
    "    if v > max_v:\n",
    "        max_v = v\n",
    "        max_ki = ki\n",
    "        max_di = di\n",
    "        break"
   ]
  },
  {
   "cell_type": "code",
   "execution_count": null,
   "metadata": {
    "ExecuteTime": {
     "end_time": "2018-03-11T20:26:56.121270Z",
     "start_time": "2018-03-11T20:26:56.110466Z"
    }
   },
   "outputs": [],
   "source": [
    "# Simulated annealing\n",
    "max_v = knapsack_value\n",
    "max_ki = None\n",
    "max_di = None\n",
    "for ki, di, v in actions:\n",
    "    if (v > max_v) or (random.random() < 0.1):\n",
    "        max_v = v\n",
    "        max_ki = ki\n",
    "        max_di = di\n",
    "        break"
   ]
  },
  {
   "cell_type": "code",
   "execution_count": null,
   "metadata": {},
   "outputs": [],
   "source": []
  },
  {
   "cell_type": "markdown",
   "metadata": {},
   "source": [
    "### Multiple steps"
   ]
  },
  {
   "cell_type": "code",
   "execution_count": 36,
   "metadata": {
    "ExecuteTime": {
     "end_time": "2018-03-11T20:28:24.669570Z",
     "start_time": "2018-03-11T20:28:24.623338Z"
    }
   },
   "outputs": [],
   "source": [
    "def hill_climbing_step():\n",
    "    global knapsack_weight, knapsack_value\n",
    "    actions = [\n",
    "        (ki, di, knapsack_value + di.value - ki.value)\n",
    "        for ki in knapsack\n",
    "        for di in desk\n",
    "        if knapsack_weight - ki.weight + di.weight < max_weight\n",
    "    ]\n",
    "    actions.extend(\n",
    "        (None, di, knapsack_value + di.value)\n",
    "        for di in desk\n",
    "        if knapsack_weight + di.weight < max_weight\n",
    "    )\n",
    "\n",
    "    max_v = knapsack_value\n",
    "    max_ki = None\n",
    "    max_di = None\n",
    "    for ki, di, v in actions:\n",
    "        if v > max_v:\n",
    "            max_v = v\n",
    "            max_ki = ki\n",
    "            max_di = di\n",
    "\n",
    "    if max_di is not None:\n",
    "        desk.remove(max_di)\n",
    "        knapsack.append(max_di)\n",
    "        knapsack_weight += max_di.weight\n",
    "        knapsack_value += max_di.value\n",
    "    if max_ki is not None:\n",
    "        knapsack.remove(max_ki)\n",
    "        desk.append(max_ki)\n",
    "        knapsack_weight -= max_ki.weight\n",
    "        knapsack_value -= max_ki.value"
   ]
  },
  {
   "cell_type": "code",
   "execution_count": 37,
   "metadata": {
    "ExecuteTime": {
     "end_time": "2018-03-11T20:28:25.389927Z",
     "start_time": "2018-03-11T20:28:25.380334Z"
    }
   },
   "outputs": [
    {
     "name": "stdout",
     "output_type": "stream",
     "text": [
      "Value:\t0\n",
      "Weight:\t0\n"
     ]
    }
   ],
   "source": [
    "desk = list(items)\n",
    "\n",
    "knapsack = []\n",
    "knapsack_weight = 0\n",
    "knapsack_value = 0\n",
    "\n",
    "print(f'Value:\\t{knapsack_value}')\n",
    "print(f'Weight:\\t{knapsack_weight}')"
   ]
  },
  {
   "cell_type": "code",
   "execution_count": 38,
   "metadata": {
    "ExecuteTime": {
     "end_time": "2018-03-11T20:28:26.071670Z",
     "start_time": "2018-03-11T20:28:26.060307Z"
    }
   },
   "outputs": [
    {
     "name": "stdout",
     "output_type": "stream",
     "text": [
      "Value:\t16.58239338802688\n",
      "Weight:\t11.783649467897803\n"
     ]
    }
   ],
   "source": [
    "hill_climbing_step()\n",
    "print(f'Value:\\t{knapsack_value}')\n",
    "print(f'Weight:\\t{knapsack_weight}')"
   ]
  },
  {
   "cell_type": "code",
   "execution_count": null,
   "metadata": {},
   "outputs": [],
   "source": []
  },
  {
   "cell_type": "markdown",
   "metadata": {},
   "source": [
    "### Complete Hill Climbing"
   ]
  },
  {
   "cell_type": "code",
   "execution_count": 39,
   "metadata": {
    "ExecuteTime": {
     "end_time": "2018-03-11T20:28:27.425992Z",
     "start_time": "2018-03-11T20:28:27.337875Z"
    }
   },
   "outputs": [],
   "source": [
    "def hill_climbing(items, max_weight, max_steps=100, best_first=False, anneal_rate=0):\n",
    "    desk = list(items)\n",
    "    \n",
    "    knapsack = []\n",
    "    knapsack_weight = 0\n",
    "    knapsack_value = 0\n",
    "    \n",
    "    def hill_climbing_step():\n",
    "        nonlocal knapsack_weight, knapsack_value\n",
    "        actions = [\n",
    "            (ki, di, knapsack_value + di.value - ki.value)\n",
    "            for ki in knapsack\n",
    "            for di in desk\n",
    "            if knapsack_weight - ki.weight + di.weight < max_weight\n",
    "        ]\n",
    "        actions.extend(\n",
    "            (None, di, knapsack_value + di.value)\n",
    "            for di in desk\n",
    "            if knapsack_weight + di.weight < max_weight\n",
    "        )\n",
    "        \n",
    "        max_v = knapsack_value\n",
    "        max_ki = None\n",
    "        max_di = None\n",
    "        for ki, di, v in actions:\n",
    "            if v > max_v:\n",
    "                max_v = v\n",
    "                max_ki = ki\n",
    "                max_di = di\n",
    "\n",
    "        if max_di is not None:\n",
    "            desk.remove(max_di)\n",
    "            knapsack.append(max_di)\n",
    "            knapsack_weight += max_di.weight\n",
    "            knapsack_value += max_di.value\n",
    "        if max_ki is not None:\n",
    "            knapsack.remove(max_ki)\n",
    "            desk.append(max_ki)\n",
    "            knapsack_weight -= max_ki.weight\n",
    "            knapsack_value -= max_ki.value\n",
    "\n",
    "        return knapsack_value, knapsack_weight\n",
    "    \n",
    "    for i in range(max_steps):\n",
    "        hill_climbing_step()\n",
    "    \n",
    "    return knapsack, knapsack_value, knapsack_weight"
   ]
  },
  {
   "cell_type": "code",
   "execution_count": 40,
   "metadata": {
    "ExecuteTime": {
     "end_time": "2018-03-11T20:28:34.210488Z",
     "start_time": "2018-03-11T20:28:27.897842Z"
    }
   },
   "outputs": [
    {
     "name": "stdout",
     "output_type": "stream",
     "text": [
      "CPU times: user 6.11 s, sys: 102 ms, total: 6.21 s\n",
      "Wall time: 6.3 s\n"
     ]
    },
    {
     "data": {
      "text/plain": [
       "([Item(value=16.58239338802688, weight=11.783649467897803),\n",
       "  Item(value=15.32653594658761, weight=3.8491979265148473),\n",
       "  Item(value=14.916308429503074, weight=0.1),\n",
       "  Item(value=14.786799035229176, weight=13.243744547959032),\n",
       "  Item(value=14.682194621253954, weight=17.686584034340317),\n",
       "  Item(value=14.538928805587465, weight=5.422369747871384),\n",
       "  Item(value=14.154797289691974, weight=25.545578075294344),\n",
       "  Item(value=14.140895463004167, weight=9.990772435986628),\n",
       "  Item(value=14.078772416893802, weight=5.7452268879308654),\n",
       "  Item(value=13.994828635477782, weight=0.1),\n",
       "  Item(value=13.988373309254781, weight=6.219539973153907),\n",
       "  Item(value=13.784416654399854, weight=0.1),\n",
       "  Item(value=13.611777618953848, weight=0.1),\n",
       "  Item(value=13.511080960777235, weight=0.1)],\n",
       " 202.0981025746416,\n",
       " 99.98666309694912)"
      ]
     },
     "execution_count": 40,
     "metadata": {},
     "output_type": "execute_result"
    }
   ],
   "source": [
    "%time hill_climbing(items, 100, best_first=True)"
   ]
  },
  {
   "cell_type": "code",
   "execution_count": null,
   "metadata": {},
   "outputs": [],
   "source": []
  },
  {
   "cell_type": "markdown",
   "metadata": {},
   "source": [
    "### Simulated annealing, greedy best first, etc"
   ]
  },
  {
   "cell_type": "code",
   "execution_count": 41,
   "metadata": {
    "ExecuteTime": {
     "end_time": "2018-03-11T20:28:34.334053Z",
     "start_time": "2018-03-11T20:28:34.213097Z"
    }
   },
   "outputs": [],
   "source": [
    "def hill_climbing(items, max_weight, max_steps=100, best_first=False, anneal_rate=0):\n",
    "    desk = list(items)\n",
    "    \n",
    "    knapsack = []\n",
    "    knapsack_weight = 0\n",
    "    knapsack_value = 0\n",
    "    \n",
    "    def hill_climbing_step():\n",
    "        nonlocal knapsack_weight, knapsack_value\n",
    "        actions = [\n",
    "            (ki, di, knapsack_value + di.value - ki.value)\n",
    "            for ki in knapsack\n",
    "            for di in desk\n",
    "            if knapsack_weight - ki.weight + di.weight < max_weight\n",
    "        ]\n",
    "        actions.extend(\n",
    "            (None, di, knapsack_value + di.value)\n",
    "            for di in desk\n",
    "            if knapsack_weight + di.weight < max_weight\n",
    "        )\n",
    "        \n",
    "        if best_first:\n",
    "            random.shuffle(actions)\n",
    "\n",
    "        max_v = knapsack_value\n",
    "        max_ki = None\n",
    "        max_di = None\n",
    "        for ki, di, v in actions:\n",
    "            if v > max_v:\n",
    "                max_v = v\n",
    "                max_ki = ki\n",
    "                max_di = di\n",
    "                if best_first:\n",
    "                    break\n",
    "            else:\n",
    "                if best_first and (random.random() < anneal_rate):\n",
    "                    break\n",
    "\n",
    "        if max_di is not None:\n",
    "            desk.remove(max_di)\n",
    "            knapsack.append(max_di)\n",
    "            knapsack_weight += max_di.weight\n",
    "            knapsack_value += max_di.value\n",
    "        if max_ki is not None:\n",
    "            knapsack.remove(max_ki)\n",
    "            desk.append(max_ki)\n",
    "            knapsack_weight -= max_ki.weight\n",
    "            knapsack_value -= max_ki.value\n",
    "\n",
    "        return knapsack_value, knapsack_weight\n",
    "    \n",
    "    for i in range(max_steps):\n",
    "        hill_climbing_step()\n",
    "    \n",
    "    return knapsack, knapsack_value, knapsack_weight"
   ]
  },
  {
   "cell_type": "code",
   "execution_count": 42,
   "metadata": {
    "ExecuteTime": {
     "end_time": "2018-03-11T20:28:41.448360Z",
     "start_time": "2018-03-11T20:28:34.336675Z"
    }
   },
   "outputs": [
    {
     "name": "stdout",
     "output_type": "stream",
     "text": [
      "CPU times: user 6.98 s, sys: 124 ms, total: 7.1 s\n",
      "Wall time: 7.1 s\n"
     ]
    },
    {
     "data": {
      "text/plain": [
       "([Item(value=16.58239338802688, weight=11.783649467897803),\n",
       "  Item(value=15.32653594658761, weight=3.8491979265148473),\n",
       "  Item(value=14.916308429503074, weight=0.1),\n",
       "  Item(value=14.786799035229176, weight=13.243744547959032),\n",
       "  Item(value=14.682194621253954, weight=17.686584034340317),\n",
       "  Item(value=14.538928805587465, weight=5.422369747871384),\n",
       "  Item(value=14.154797289691974, weight=25.545578075294344),\n",
       "  Item(value=14.140895463004167, weight=9.990772435986628),\n",
       "  Item(value=14.078772416893802, weight=5.7452268879308654),\n",
       "  Item(value=13.994828635477782, weight=0.1),\n",
       "  Item(value=13.988373309254781, weight=6.219539973153907),\n",
       "  Item(value=13.784416654399854, weight=0.1),\n",
       "  Item(value=13.611777618953848, weight=0.1),\n",
       "  Item(value=13.511080960777235, weight=0.1)],\n",
       " 202.0981025746416,\n",
       " 99.98666309694912)"
      ]
     },
     "execution_count": 42,
     "metadata": {},
     "output_type": "execute_result"
    }
   ],
   "source": [
    "%time hill_climbing(items, 100, best_first=False)"
   ]
  },
  {
   "cell_type": "code",
   "execution_count": 43,
   "metadata": {
    "ExecuteTime": {
     "end_time": "2018-03-11T20:28:59.999494Z",
     "start_time": "2018-03-11T20:28:41.450176Z"
    }
   },
   "outputs": [
    {
     "name": "stdout",
     "output_type": "stream",
     "text": [
      "CPU times: user 18.4 s, sys: 35.3 ms, total: 18.4 s\n",
      "Wall time: 18.5 s\n"
     ]
    },
    {
     "data": {
      "text/plain": [
       "([Item(value=12.53700124223899, weight=5.679668056236004),\n",
       "  Item(value=10.644962731580156, weight=3.2769864653136827),\n",
       "  Item(value=11.580019796371802, weight=15.10081599450648),\n",
       "  Item(value=8.973411920872561, weight=9.421369126253383),\n",
       "  Item(value=9.870583740933945, weight=2.6898886579567964),\n",
       "  Item(value=10.199390231097864, weight=0.1),\n",
       "  Item(value=9.05255925174059, weight=0.1),\n",
       "  Item(value=12.137016509931529, weight=0.1),\n",
       "  Item(value=9.660594412037277, weight=2.0212194843368447),\n",
       "  Item(value=10.537242891316756, weight=11.693270831874406),\n",
       "  Item(value=14.078772416893802, weight=5.7452268879308654),\n",
       "  Item(value=10.897021231393616, weight=0.1),\n",
       "  Item(value=11.830514896454954, weight=4.338820383243287),\n",
       "  Item(value=11.293172497863248, weight=0.8838854034237222),\n",
       "  Item(value=6.281119706109734, weight=0.1),\n",
       "  Item(value=9.093291507572369, weight=0.1),\n",
       "  Item(value=9.201972192148213, weight=2.9888748950285144),\n",
       "  Item(value=10.556706195514764, weight=0.2830364535335015),\n",
       "  Item(value=5.431353527369989, weight=0.1),\n",
       "  Item(value=9.56575602164856, weight=11.257468394639918),\n",
       "  Item(value=9.463879089757178, weight=0.1),\n",
       "  Item(value=10.751951259621327, weight=5.172069348120902),\n",
       "  Item(value=11.58237343644868, weight=15.238218712125427)],\n",
       " 235.2206667069179,\n",
       " 96.59081909452361)"
      ]
     },
     "execution_count": 43,
     "metadata": {},
     "output_type": "execute_result"
    }
   ],
   "source": [
    "%time hill_climbing(items, 100, best_first=True, anneal_rate=0.1)"
   ]
  },
  {
   "cell_type": "code",
   "execution_count": null,
   "metadata": {},
   "outputs": [],
   "source": []
  }
 ],
 "metadata": {
  "kernelspec": {
   "display_name": "Python 3.6.3",
   "language": "python",
   "name": "python3"
  },
  "language_info": {
   "codemirror_mode": {
    "name": "ipython",
    "version": 3
   },
   "file_extension": ".py",
   "mimetype": "text/x-python",
   "name": "python",
   "nbconvert_exporter": "python",
   "pygments_lexer": "ipython3",
   "version": "3.6.3"
  },
  "toc": {
   "nav_menu": {},
   "number_sections": true,
   "sideBar": true,
   "skip_h1_title": false,
   "title_cell": "Table of Contents",
   "title_sidebar": "Contents",
   "toc_cell": false,
   "toc_position": {},
   "toc_section_display": true,
   "toc_window_display": false
  }
 },
 "nbformat": 4,
 "nbformat_minor": 2
}
