{
 "cells": [
  {
   "cell_type": "code",
   "execution_count": 9,
   "metadata": {
    "ExecuteTime": {
     "end_time": "2018-03-04T07:37:36.807748Z",
     "start_time": "2018-03-04T07:37:36.787320Z"
    },
    "slideshow": {
     "slide_type": "-"
    }
   },
   "outputs": [],
   "source": [
    "%matplotlib inline\n",
    "\n",
    "from collections import Counter, defaultdict, namedtuple, deque\n",
    "from sortedcollections import ValueSortedDict\n",
    "import itertools\n",
    "import random\n",
    "import copy\n",
    "\n",
    "import numpy as np\n",
    "\n",
    "import matplotlib\n",
    "from matplotlib import pyplot as plt\n",
    "from matplotlib import colors as mcolors\n",
    "\n",
    "from tqdm import tqdm_notebook\n",
    "import networkx as nx\n",
    "from graphviz import Digraph"
   ]
  },
  {
   "cell_type": "markdown",
   "metadata": {},
   "source": [
    "# Solving Problems by Searching"
   ]
  },
  {
   "cell_type": "markdown",
   "metadata": {},
   "source": [
    "* Atomic vs non-atomic repressentations\n",
    "* Uninformed vs Informed"
   ]
  },
  {
   "cell_type": "markdown",
   "metadata": {
    "heading_collapsed": true
   },
   "source": [
    "## Problem-Solving Agents"
   ]
  },
  {
   "cell_type": "markdown",
   "metadata": {
    "ExecuteTime": {
     "end_time": "2018-02-17T17:51:35.037328Z",
     "start_time": "2018-02-17T17:51:35.031638Z"
    },
    "hidden": true
   },
   "source": [
    "Steps:\n",
    "* Goal formulation\n",
    "* Problem formulation"
   ]
  },
  {
   "cell_type": "markdown",
   "metadata": {},
   "source": [
    "## Example Problems"
   ]
  },
  {
   "cell_type": "code",
   "execution_count": 10,
   "metadata": {
    "ExecuteTime": {
     "end_time": "2018-03-04T07:37:38.786247Z",
     "start_time": "2018-03-04T07:37:38.741607Z"
    }
   },
   "outputs": [],
   "source": [
    "def space(p, progress_bar=False):\n",
    "    if progress_bar:\n",
    "        result = []\n",
    "        with tqdm_notebook(generate_space(p)) as progress:\n",
    "            for i, elem in enumerate(progress):\n",
    "                result.append(elem)\n",
    "                progress.set_postfix(num_created=f'{i+1:d}')\n",
    "            return result\n",
    "    return list(generate_space(p))\n",
    "\n",
    "def generate_space(p):\n",
    "    seen = {p.initial_state()}\n",
    "    frontier = deque([p.initial_state()])\n",
    "    yield p.initial_state()\n",
    "    while frontier:\n",
    "        s = frontier.popleft()\n",
    "        for a in p.actions(s):\n",
    "            new = p.result(s, a)\n",
    "            if new not in seen:\n",
    "                seen.add(new)\n",
    "                frontier.append(new)\n",
    "                yield new\n",
    "\n",
    "def graph(p, limit=None):\n",
    "    states = space(p) if limit is None else itertools.islice(generate_space(p), limit)\n",
    "    return {\n",
    "        state: {p.result(state, a): p.step_cost(state, a, p.result(state, a)) for a in p.actions(state)}\n",
    "        for state in states\n",
    "    }"
   ]
  },
  {
   "cell_type": "markdown",
   "metadata": {
    "heading_collapsed": true
   },
   "source": [
    "### Machinarium Docks Hoist Puzzle"
   ]
  },
  {
   "cell_type": "markdown",
   "metadata": {
    "heading_collapsed": true,
    "hidden": true
   },
   "source": [
    "#### Prblem"
   ]
  },
  {
   "cell_type": "markdown",
   "metadata": {
    "hidden": true
   },
   "source": [
    "![Docks Hoist Puzzle](./images/Mini-game_7.jpg)"
   ]
  },
  {
   "cell_type": "markdown",
   "metadata": {
    "ExecuteTime": {
     "end_time": "2018-02-17T20:29:35.616282Z",
     "start_time": "2018-02-17T20:29:35.501612Z"
    },
    "hidden": true
   },
   "source": [
    "#### Solution"
   ]
  },
  {
   "cell_type": "markdown",
   "metadata": {
    "ExecuteTime": {
     "end_time": "2018-02-17T20:29:35.616282Z",
     "start_time": "2018-02-17T20:29:35.501612Z"
    },
    "hidden": true
   },
   "source": [
    "![Docks Hoist Puzzle Solution](./images/Mini-game_7_walkthrough_book_hint.jpg)"
   ]
  },
  {
   "cell_type": "markdown",
   "metadata": {
    "hidden": true
   },
   "source": [
    "#### Formulation"
   ]
  },
  {
   "cell_type": "code",
   "execution_count": 4,
   "metadata": {
    "ExecuteTime": {
     "end_time": "2018-02-25T09:07:45.223797Z",
     "start_time": "2018-02-25T09:07:45.163843Z"
    },
    "hidden": true
   },
   "outputs": [],
   "source": [
    "class DocksHoistPuzzle:\n",
    "    @staticmethod\n",
    "    def initial_state():\n",
    "        return '>>> <<<'\n",
    "\n",
    "    @staticmethod\n",
    "    def actions(state):\n",
    "        result = []\n",
    "        if state.replace(' <', '< ') != state:\n",
    "            result.append('left')\n",
    "        if state.replace('> ', ' >') != state:\n",
    "            result.append('right')\n",
    "        if state.replace(' ><', '<> ') != state:\n",
    "            result.append('jump-left')\n",
    "        if state.replace('>< ', ' <>') != state:\n",
    "            result.append('jump-right')\n",
    "        return result\n",
    "\n",
    "    @staticmethod\n",
    "    def result(state, action):\n",
    "        if action == 'left':\n",
    "            return state.replace(' <', '< ')\n",
    "        if action == 'right':\n",
    "            return state.replace('> ', ' >')\n",
    "        if action == 'jump-left':\n",
    "            return state.replace(' ><', '<> ')\n",
    "        if action == 'jump-right':\n",
    "            return state.replace('>< ', ' <>')\n",
    "        raise Exception(f'Unknown action {action}')\n",
    "\n",
    "    @staticmethod\n",
    "    def step_cost(start, action, end):\n",
    "        return 1\n",
    "\n",
    "    @staticmethod\n",
    "    def goal_test(state):\n",
    "        return state == '<<< >>>'"
   ]
  },
  {
   "cell_type": "code",
   "execution_count": 5,
   "metadata": {
    "ExecuteTime": {
     "end_time": "2018-02-25T09:07:46.043236Z",
     "start_time": "2018-02-25T09:07:45.327629Z"
    },
    "hidden": true
   },
   "outputs": [
    {
     "data": {
      "image/png": "[encoded data removed]",
      "text/plain": [
       "<matplotlib.figure.Figure at 0x7f3c61764a58>"
      ]
     },
     "metadata": {},
     "output_type": "display_data"
    }
   ],
   "source": [
    "plt.figure(figsize=[20, 20])\n",
    "g = nx.Graph()\n",
    "g.add_weighted_edges_from([\n",
    "    (source, dest, weight)\n",
    "    for source, edges in graph(DocksHoistPuzzle).items()\n",
    "    for dest, weight in edges.items()\n",
    "])\n",
    "g.add_node('>>> <<<')\n",
    "\n",
    "nodes = list(g.nodes)\n",
    "colors = ['white'] * len(nodes)\n",
    "colors[nodes.index('>>> <<<')] = 'yellow'\n",
    "colors[nodes.index('<<< >>>')] = 'khaki'\n",
    "\n",
    "nx.draw_kamada_kawai(\n",
    "    g, \n",
    "    with_labels=True, \n",
    "    node_size=3500, \n",
    "    node_color=colors\n",
    ")"
   ]
  },
  {
   "cell_type": "markdown",
   "metadata": {
    "heading_collapsed": true
   },
   "source": [
    "### Vacuum World"
   ]
  },
  {
   "cell_type": "markdown",
   "metadata": {
    "hidden": true
   },
   "source": [
    "#### State"
   ]
  },
  {
   "cell_type": "markdown",
   "metadata": {
    "ExecuteTime": {
     "end_time": "2018-02-17T20:53:40.434956Z",
     "start_time": "2018-02-17T20:53:40.321305Z"
    },
    "hidden": true
   },
   "source": [
    "![Vacuum World State](./images/va1.png)"
   ]
  },
  {
   "cell_type": "markdown",
   "metadata": {
    "hidden": true
   },
   "source": [
    "#### State Space"
   ]
  },
  {
   "cell_type": "markdown",
   "metadata": {
    "hidden": true
   },
   "source": [
    "![Vacuum World State Space](./images/VacuumWorld.JPG)"
   ]
  },
  {
   "cell_type": "markdown",
   "metadata": {
    "heading_collapsed": true,
    "hidden": true
   },
   "source": [
    "#### Formulation"
   ]
  },
  {
   "cell_type": "code",
   "execution_count": 8,
   "metadata": {
    "ExecuteTime": {
     "end_time": "2018-02-25T09:18:41.005476Z",
     "start_time": "2018-02-25T09:18:40.947956Z"
    },
    "hidden": true
   },
   "outputs": [],
   "source": [
    "class VacuumWorld:\n",
    "    @staticmethod\n",
    "    def initial_state():\n",
    "        #       location, left-dirty, right dirty\n",
    "        return ('L'     , True      , True       )\n",
    "\n",
    "    @staticmethod\n",
    "    def actions(state):\n",
    "        loc, ld, rd = state\n",
    "        result = ['S']\n",
    "        if loc == 'L':\n",
    "            result.append('R')\n",
    "        if loc == 'R':\n",
    "            result.append('L')\n",
    "        return result\n",
    "        \n",
    "    @staticmethod\n",
    "    def result(state, action):\n",
    "        loc, ld, rd = state\n",
    "        if action == 'S':\n",
    "            if loc == 'L':\n",
    "                ld = False\n",
    "            if loc == 'R':\n",
    "                rd = False\n",
    "        else:\n",
    "            loc = action\n",
    "        return (loc, ld, rd)\n",
    "\n",
    "    @staticmethod\n",
    "    def step_cost(start, action, end):\n",
    "        return 1\n",
    "\n",
    "    @staticmethod\n",
    "    def goal_test(state):\n",
    "        return state[1:] == (False, False)"
   ]
  },
  {
   "cell_type": "code",
   "execution_count": 7,
   "metadata": {
    "ExecuteTime": {
     "end_time": "2018-02-25T09:07:46.951568Z",
     "start_time": "2018-02-25T09:07:46.945287Z"
    },
    "hidden": true
   },
   "outputs": [
    {
     "data": {
      "text/plain": [
       "[('L', True, True),\n",
       " ('L', False, True),\n",
       " ('R', True, True),\n",
       " ('R', False, True),\n",
       " ('R', True, False),\n",
       " ('R', False, False),\n",
       " ('L', True, False),\n",
       " ('L', False, False)]"
      ]
     },
     "execution_count": 7,
     "metadata": {},
     "output_type": "execute_result"
    }
   ],
   "source": [
    "space(VacuumWorld)"
   ]
  },
  {
   "cell_type": "code",
   "execution_count": 44,
   "metadata": {
    "ExecuteTime": {
     "end_time": "2018-02-25T09:13:03.025955Z",
     "start_time": "2018-02-25T09:13:03.021870Z"
    },
    "hidden": true
   },
   "outputs": [
    {
     "data": {
      "text/plain": [
       "Solution(state=('R', False, False), solution=['S', 'R', 'S'], cost=3, num_expanded=9, max_memory=10)"
      ]
     },
     "execution_count": 44,
     "metadata": {},
     "output_type": "execute_result"
    }
   ],
   "source": [
    "bfs_search(VacuumWorld)"
   ]
  },
  {
   "cell_type": "code",
   "execution_count": 9,
   "metadata": {
    "ExecuteTime": {
     "end_time": "2018-02-25T09:18:50.287791Z",
     "start_time": "2018-02-25T09:18:50.279866Z"
    },
    "hidden": true
   },
   "outputs": [
    {
     "data": {
      "text/plain": [
       "Solution(state=('L', False, False), solution=['R', 'S', 'L', 'S'], cost=4, num_expanded=4, max_memory=6)"
      ]
     },
     "execution_count": 9,
     "metadata": {},
     "output_type": "execute_result"
    }
   ],
   "source": [
    "dfs_search(VacuumWorld, graph=True)"
   ]
  },
  {
   "cell_type": "markdown",
   "metadata": {},
   "source": [
    "### Sliding Puzzle"
   ]
  },
  {
   "cell_type": "markdown",
   "metadata": {},
   "source": [
    "#### Problem"
   ]
  },
  {
   "cell_type": "markdown",
   "metadata": {},
   "source": [
    "![](./images/sliding_puzzle.png)"
   ]
  },
  {
   "cell_type": "markdown",
   "metadata": {},
   "source": [
    "#### Formulation"
   ]
  },
  {
   "cell_type": "code",
   "execution_count": 11,
   "metadata": {
    "ExecuteTime": {
     "end_time": "2018-03-04T07:37:41.631605Z",
     "start_time": "2018-03-04T07:37:41.565847Z"
    }
   },
   "outputs": [],
   "source": [
    "class SlidingPuzzle:\n",
    "    def __init__(\n",
    "            self,\n",
    "            board=(\n",
    "                (7, 2, 4),\n",
    "                (5, 0, 6),\n",
    "                (8, 3, 1)\n",
    "            )\n",
    "        ):\n",
    "        self.initial = board\n",
    "    \n",
    "    def initial_state(self):\n",
    "        return self.initial\n",
    "\n",
    "    def actions(self, state):\n",
    "        r, c = [(row, cols.index(0)) for row, cols in enumerate(state) if 0 in cols][0]\n",
    "        results = [\n",
    "            ((r, c), (r+1, c)),\n",
    "            ((r, c), (r, c+1)),\n",
    "            ((r, c), (r-1, c)),\n",
    "            ((r, c), (r, c-1)),\n",
    "        ]\n",
    "        return [\n",
    "            ((r0, c0), (r1, c1) )\n",
    "            for (r0, c0), (r1, c1) \n",
    "            in results \n",
    "            if (r1 in {0, 1, 2}) and (c1 in {0, 1, 2})\n",
    "        ]\n",
    "        \n",
    "    def result(self, state, action):\n",
    "        state = list(map(list, state))\n",
    "        (r0, c0), (r1, c1) = action\n",
    "        state[r0][c0], state[r1][c1] = state[r1][c1], state[r0][c0]\n",
    "        return tuple(map(tuple, state))\n",
    "\n",
    "    def step_cost(self, start, action, end):\n",
    "        return 1\n",
    "\n",
    "    def goal_test(self, state):\n",
    "        return state == (\n",
    "            (1, 2, 3),\n",
    "            (4, 5, 6),\n",
    "            (7, 8, 0)\n",
    "        )"
   ]
  },
  {
   "cell_type": "code",
   "execution_count": 42,
   "metadata": {
    "ExecuteTime": {
     "end_time": "2018-03-04T07:22:33.030315Z",
     "start_time": "2018-03-04T07:22:30.213997Z"
    }
   },
   "outputs": [
    {
     "data": {
      "text/plain": [
       "181440"
      ]
     },
     "execution_count": 42,
     "metadata": {},
     "output_type": "execute_result"
    }
   ],
   "source": [
    "len(space(SlidingPuzzle()))"
   ]
  },
  {
   "cell_type": "markdown",
   "metadata": {
    "heading_collapsed": true
   },
   "source": [
    "### 8-Queens"
   ]
  },
  {
   "cell_type": "markdown",
   "metadata": {
    "hidden": true
   },
   "source": [
    "#### Problem"
   ]
  },
  {
   "cell_type": "markdown",
   "metadata": {
    "hidden": true
   },
   "source": [
    "![](./images/8-queens-unique_solutions.png)"
   ]
  },
  {
   "cell_type": "code",
   "execution_count": 10,
   "metadata": {
    "ExecuteTime": {
     "end_time": "2018-02-25T09:07:51.264646Z",
     "start_time": "2018-02-25T09:07:51.189260Z"
    },
    "code_folding": [],
    "hidden": true
   },
   "outputs": [],
   "source": [
    "class EightQueens:\n",
    "    @staticmethod\n",
    "    def initial_state():\n",
    "        return ()\n",
    "\n",
    "    @staticmethod\n",
    "    def actions(state):\n",
    "        if len(state) == 8:\n",
    "            return []\n",
    "        \n",
    "        results = set(range(8))\n",
    "        results -= set(state)\n",
    "        \n",
    "        altr_diag = {row + col for col, row in enumerate(state)}\n",
    "        main_diag = {8 - row + col for col, row in enumerate(state)}\n",
    "        \n",
    "        for r in list(results):\n",
    "            if (r + len(state)) in altr_diag:\n",
    "                results.remove(r)\n",
    "            elif (8 - r + len(state)) in main_diag:\n",
    "                results.remove(r)\n",
    "        \n",
    "        return results\n",
    "        \n",
    "        \n",
    "    @staticmethod\n",
    "    def result(state, action):\n",
    "        return state + (action,)\n",
    "\n",
    "    @staticmethod\n",
    "    def step_cost(start, action, end):\n",
    "        return 1\n",
    "\n",
    "    @staticmethod\n",
    "    def goal_test(state):\n",
    "        return len(state) == 8"
   ]
  },
  {
   "cell_type": "code",
   "execution_count": 11,
   "metadata": {
    "ExecuteTime": {
     "end_time": "2018-02-25T09:07:51.290417Z",
     "start_time": "2018-02-25T09:07:51.267549Z"
    },
    "hidden": true
   },
   "outputs": [],
   "source": [
    "q = space(EightQueens)"
   ]
  },
  {
   "cell_type": "code",
   "execution_count": 12,
   "metadata": {
    "ExecuteTime": {
     "end_time": "2018-02-25T09:07:51.503071Z",
     "start_time": "2018-02-25T09:07:51.292920Z"
    },
    "code_folding": [
     0,
     14,
     34
    ],
    "hidden": true
   },
   "outputs": [],
   "source": [
    "def threneted_list(queens):\n",
    "    size = len(queens)\n",
    "    thretenings = len(queens) * [0]\n",
    "\n",
    "    c = Counter(row + col for row, col in zip(range(size - 1, -1, -1), queens))\n",
    "    for idx, (row, col) in enumerate(zip(range(size - 1, -1, -1), queens)):\n",
    "        thretenings[idx] += c[row + col] - 1\n",
    "\n",
    "    c = Counter(row + col for row, col in zip(range(0, size, 1), queens))\n",
    "    for idx, (row, col) in enumerate(zip(range(0, size, 1), queens)):\n",
    "        thretenings[idx] += c[row + col] - 1\n",
    "\n",
    "    return thretenings\n",
    "\n",
    "def to_chessboard(queens):\n",
    "    size = len(queens)\n",
    "    \n",
    "    threats = np.zeros([size, size], dtype=np.int)\n",
    "    \n",
    "    board = np.ones([size, size])\n",
    "    board[::2, ::2] = 1/20\n",
    "    board[1::2, 1::2] = 1/20\n",
    "    \n",
    "    board[np.ogrid[:len(queens)], queens] = 0.5\n",
    "    \n",
    "    for row, (col, t) in enumerate(zip(queens, threneted_list(queens))):\n",
    "        if t == 0:\n",
    "            board[row, col] = 2 / 10\n",
    "        else:\n",
    "            board[row, col] = 3 / 10\n",
    "            threats[row, col] = t\n",
    "    \n",
    "    return board, threats\n",
    "\n",
    "def plot_chessboard(queens, text_size=15, animated=False):\n",
    "    size = len(queens)\n",
    "    \n",
    "    ax = plt.gca()\n",
    "    ax.set_xlim([-0.5, size - 0.5])\n",
    "    ax.set_ylim([-0.5, size - 0.5])\n",
    "    ax.set_xticks([])\n",
    "    ax.set_yticks([])\n",
    "\n",
    "    board, threats = to_chessboard(queens)\n",
    "    image = plt.imshow(\n",
    "        board, \n",
    "        interpolation='nearest', \n",
    "        cmap=plt.cm.tab20, \n",
    "        norm=matplotlib.colors.NoNorm(),\n",
    "        animated=animated\n",
    "    )\n",
    "    \n",
    "    if text_size:\n",
    "        texts = []\n",
    "        for i, row in enumerate(threats):\n",
    "            row_texts = []\n",
    "            for j, cell in enumerate(row):\n",
    "                text = '' if cell == 0 else str(cell)\n",
    "                row_texts.append(\n",
    "                    ax.text(j, i, text, color='white', fontsize=text_size, animated=animated)\n",
    "                )\n",
    "            texts.append(row_texts)\n",
    "        return image, texts\n",
    "    else:\n",
    "        return image"
   ]
  },
  {
   "cell_type": "code",
   "execution_count": 39,
   "metadata": {
    "ExecuteTime": {
     "end_time": "2018-02-25T09:09:47.550604Z",
     "start_time": "2018-02-25T09:09:47.431346Z"
    },
    "hidden": true
   },
   "outputs": [
    {
     "data": {
      "image/png": "[encoded data removed]",
      "text/plain": [
       "<matplotlib.figure.Figure at 0x7f3c5ee449b0>"
      ]
     },
     "metadata": {},
     "output_type": "display_data"
    }
   ],
   "source": [
    "plot_chessboard(bfs_search(EightQueens()).state);"
   ]
  },
  {
   "cell_type": "markdown",
   "metadata": {
    "heading_collapsed": true
   },
   "source": [
    "### Knuth's $\\sqrt{x}$, $\\lfloor x \\rfloor$, $x!$"
   ]
  },
  {
   "cell_type": "markdown",
   "metadata": {
    "ExecuteTime": {
     "end_time": "2018-02-17T21:03:41.766309Z",
     "start_time": "2018-02-17T21:03:41.763221Z"
    },
    "hidden": true
   },
   "source": [
    "#### Problem"
   ]
  },
  {
   "cell_type": "markdown",
   "metadata": {
    "hidden": true
   },
   "source": [
    "Every number can be obtained by applying:\n",
    "\n",
    "* $\\sqrt{x}$\n",
    "* $\\lfloor x \\rfloor$\n",
    "* $x!$\n",
    "\n",
    "Repeatedly. starting by number 4.\n",
    "\n",
    "For example:\n",
    "\n",
    "$$ \\lfloor \\sqrt{\\sqrt{\\sqrt{\\sqrt{\\sqrt{(4!)!}}}}} \\rfloor = 5 $$"
   ]
  },
  {
   "cell_type": "markdown",
   "metadata": {
    "hidden": true
   },
   "source": [
    "#### Formulation"
   ]
  },
  {
   "cell_type": "code",
   "execution_count": 14,
   "metadata": {
    "ExecuteTime": {
     "end_time": "2018-02-25T09:07:52.413435Z",
     "start_time": "2018-02-25T09:07:52.361937Z"
    },
    "hidden": true
   },
   "outputs": [],
   "source": [
    "class KnuthProblem:\n",
    "    @staticmethod\n",
    "    def initial_state():\n",
    "        return 4\n",
    "\n",
    "    @staticmethod\n",
    "    def actions(state):\n",
    "        result = ['sqrt', 'floor']\n",
    "        if isinstance(state, int):\n",
    "            result.append('factorial')\n",
    "        return result\n",
    "        \n",
    "    @staticmethod\n",
    "    def result(state, action):\n",
    "        import math\n",
    "        if action == 'floor':\n",
    "            return int(state)\n",
    "        if action == 'sqrt':\n",
    "            return math.sqrt(state)\n",
    "        if action == 'factorial':\n",
    "            n = 1\n",
    "            for i in range(1, state + 1):\n",
    "                n *= i\n",
    "            return n\n",
    "        raise Exception(f'Invalid action {action}')\n",
    "\n",
    "    @staticmethod\n",
    "    def step_cost(start, action, end):\n",
    "        return 1\n",
    "\n",
    "    @staticmethod\n",
    "    def goal_test(state):\n",
    "        return 5"
   ]
  },
  {
   "cell_type": "code",
   "execution_count": 14,
   "metadata": {
    "ExecuteTime": {
     "end_time": "2018-02-25T08:47:56.212305Z",
     "start_time": "2018-02-25T08:47:14.232478Z"
    },
    "hidden": true
   },
   "outputs": [
    {
     "ename": "KeyboardInterrupt",
     "evalue": "",
     "output_type": "error",
     "traceback": [
      "\u001b[0;31m---------------------------------------------------------------------------\u001b[0m",
      "\u001b[0;31mKeyboardInterrupt\u001b[0m                         Traceback (most recent call last)",
      "\u001b[0;32m<ipython-input-14-a9dfc8f72352>\u001b[0m in \u001b[0;36m<module>\u001b[0;34m()\u001b[0m\n\u001b[0;32m----> 1\u001b[0;31m \u001b[0msum\u001b[0m\u001b[0;34m(\u001b[0m\u001b[0;36m1\u001b[0m \u001b[0;32mfor\u001b[0m \u001b[0mx\u001b[0m \u001b[0;32min\u001b[0m \u001b[0mitertools\u001b[0m\u001b[0;34m.\u001b[0m\u001b[0mislice\u001b[0m\u001b[0;34m(\u001b[0m\u001b[0mgenerate_space\u001b[0m\u001b[0;34m(\u001b[0m\u001b[0mKnuthProblem\u001b[0m\u001b[0;34m)\u001b[0m\u001b[0;34m,\u001b[0m \u001b[0;36m1000\u001b[0m\u001b[0;34m)\u001b[0m\u001b[0;34m)\u001b[0m\u001b[0;34m\u001b[0m\u001b[0m\n\u001b[0m",
      "\u001b[0;32m<ipython-input-14-a9dfc8f72352>\u001b[0m in \u001b[0;36m<genexpr>\u001b[0;34m(.0)\u001b[0m\n\u001b[0;32m----> 1\u001b[0;31m \u001b[0msum\u001b[0m\u001b[0;34m(\u001b[0m\u001b[0;36m1\u001b[0m \u001b[0;32mfor\u001b[0m \u001b[0mx\u001b[0m \u001b[0;32min\u001b[0m \u001b[0mitertools\u001b[0m\u001b[0;34m.\u001b[0m\u001b[0mislice\u001b[0m\u001b[0;34m(\u001b[0m\u001b[0mgenerate_space\u001b[0m\u001b[0;34m(\u001b[0m\u001b[0mKnuthProblem\u001b[0m\u001b[0;34m)\u001b[0m\u001b[0;34m,\u001b[0m \u001b[0;36m1000\u001b[0m\u001b[0;34m)\u001b[0m\u001b[0;34m)\u001b[0m\u001b[0;34m\u001b[0m\u001b[0m\n\u001b[0m",
      "\u001b[0;32m<ipython-input-2-40d23ab183c9>\u001b[0m in \u001b[0;36mgenerate_space\u001b[0;34m(p)\u001b[0m\n\u001b[1;32m     16\u001b[0m         \u001b[0ms\u001b[0m \u001b[0;34m=\u001b[0m \u001b[0mfrontier\u001b[0m\u001b[0;34m.\u001b[0m\u001b[0mpopleft\u001b[0m\u001b[0;34m(\u001b[0m\u001b[0;34m)\u001b[0m\u001b[0;34m\u001b[0m\u001b[0m\n\u001b[1;32m     17\u001b[0m         \u001b[0;32mfor\u001b[0m \u001b[0ma\u001b[0m \u001b[0;32min\u001b[0m \u001b[0mp\u001b[0m\u001b[0;34m.\u001b[0m\u001b[0mactions\u001b[0m\u001b[0;34m(\u001b[0m\u001b[0ms\u001b[0m\u001b[0;34m)\u001b[0m\u001b[0;34m:\u001b[0m\u001b[0;34m\u001b[0m\u001b[0m\n\u001b[0;32m---> 18\u001b[0;31m             \u001b[0mnew\u001b[0m \u001b[0;34m=\u001b[0m \u001b[0mp\u001b[0m\u001b[0;34m.\u001b[0m\u001b[0mresult\u001b[0m\u001b[0;34m(\u001b[0m\u001b[0ms\u001b[0m\u001b[0;34m,\u001b[0m \u001b[0ma\u001b[0m\u001b[0;34m)\u001b[0m\u001b[0;34m\u001b[0m\u001b[0m\n\u001b[0m\u001b[1;32m     19\u001b[0m             \u001b[0;32mif\u001b[0m \u001b[0mnew\u001b[0m \u001b[0;32mnot\u001b[0m \u001b[0;32min\u001b[0m \u001b[0mseen\u001b[0m\u001b[0;34m:\u001b[0m\u001b[0;34m\u001b[0m\u001b[0m\n\u001b[1;32m     20\u001b[0m                 \u001b[0mseen\u001b[0m\u001b[0;34m.\u001b[0m\u001b[0madd\u001b[0m\u001b[0;34m(\u001b[0m\u001b[0mnew\u001b[0m\u001b[0;34m)\u001b[0m\u001b[0;34m\u001b[0m\u001b[0m\n",
      "\u001b[0;32m<ipython-input-13-31e7f2235c24>\u001b[0m in \u001b[0;36mresult\u001b[0;34m(state, action)\u001b[0m\n\u001b[1;32m     21\u001b[0m             \u001b[0mn\u001b[0m \u001b[0;34m=\u001b[0m \u001b[0;36m1\u001b[0m\u001b[0;34m\u001b[0m\u001b[0m\n\u001b[1;32m     22\u001b[0m             \u001b[0;32mfor\u001b[0m \u001b[0mi\u001b[0m \u001b[0;32min\u001b[0m \u001b[0mrange\u001b[0m\u001b[0;34m(\u001b[0m\u001b[0;36m1\u001b[0m\u001b[0;34m,\u001b[0m \u001b[0mstate\u001b[0m \u001b[0;34m+\u001b[0m \u001b[0;36m1\u001b[0m\u001b[0;34m)\u001b[0m\u001b[0;34m:\u001b[0m\u001b[0;34m\u001b[0m\u001b[0m\n\u001b[0;32m---> 23\u001b[0;31m                 \u001b[0mn\u001b[0m \u001b[0;34m*=\u001b[0m \u001b[0mi\u001b[0m\u001b[0;34m\u001b[0m\u001b[0m\n\u001b[0m\u001b[1;32m     24\u001b[0m             \u001b[0;32mreturn\u001b[0m \u001b[0mn\u001b[0m\u001b[0;34m\u001b[0m\u001b[0m\n\u001b[1;32m     25\u001b[0m         \u001b[0;32mraise\u001b[0m \u001b[0mException\u001b[0m\u001b[0;34m(\u001b[0m\u001b[0;34mf'Invalid action {action}'\u001b[0m\u001b[0;34m)\u001b[0m\u001b[0;34m\u001b[0m\u001b[0m\n",
      "\u001b[0;31mKeyboardInterrupt\u001b[0m: "
     ]
    }
   ],
   "source": [
    "sum(1 for x in itertools.islice(generate_space(KnuthProblem), 1000))"
   ]
  },
  {
   "cell_type": "markdown",
   "metadata": {
    "hidden": true
   },
   "source": [
    "#### The Challenge"
   ]
  },
  {
   "cell_type": "markdown",
   "metadata": {
    "ExecuteTime": {
     "end_time": "2018-02-17T21:10:01.487194Z",
     "start_time": "2018-02-17T21:10:01.483209Z"
    },
    "hidden": true
   },
   "source": [
    "Each path is infinite!"
   ]
  },
  {
   "cell_type": "code",
   "execution_count": 15,
   "metadata": {
    "ExecuteTime": {
     "end_time": "2018-02-25T09:07:54.951904Z",
     "start_time": "2018-02-25T09:07:54.946577Z"
    },
    "hidden": true
   },
   "outputs": [],
   "source": [
    "def factorial(k):\n",
    "    n = 1\n",
    "    for i in range(1, k+1):\n",
    "        n *= i\n",
    "    return n"
   ]
  },
  {
   "cell_type": "code",
   "execution_count": 16,
   "metadata": {
    "ExecuteTime": {
     "end_time": "2018-02-25T09:07:55.154672Z",
     "start_time": "2018-02-25T09:07:55.149616Z"
    },
    "hidden": true
   },
   "outputs": [],
   "source": [
    "def sqrtn(n, k):\n",
    "    import math\n",
    "    for i in range(k):\n",
    "        n = math.sqrt(n)\n",
    "    return n"
   ]
  },
  {
   "cell_type": "code",
   "execution_count": 17,
   "metadata": {
    "ExecuteTime": {
     "end_time": "2018-02-25T09:07:56.276038Z",
     "start_time": "2018-02-25T09:07:55.901360Z"
    },
    "hidden": true
   },
   "outputs": [
    {
     "data": {
      "image/svg+xml": [
       "<?xml version=\"1.0\" encoding=\"UTF-8\" standalone=\"no\"?>\n",
       "<!DOCTYPE svg PUBLIC \"-//W3C//DTD SVG 1.1//EN\"\n",
       " \"http://www.w3.org/Graphics/SVG/1.1/DTD/svg11.dtd\">\n",
       "<!-- Generated by graphviz version 2.38.0 (20140413.2041)\n",
       " -->\n",
       "<!-- Title: %3 Pages: 1 -->\n",
       "<svg width=\"1194pt\" height=\"237pt\"\n",
       " viewBox=\"0.00 0.00 1193.95 237.00\" xmlns=\"http://www.w3.org/2000/svg\" xmlns:xlink=\"http://www.w3.org/1999/xlink\">\n",
       "<g id=\"graph0\" class=\"graph\" transform=\"scale(1 1) rotate(0) translate(4 233)\">\n",
       "<title>%3</title>\n",
       "<polygon fill=\"white\" stroke=\"none\" points=\"-4,4 -4,-233 1189.95,-233 1189.95,4 -4,4\"/>\n",
       "<!-- 4 -->\n",
       "<g id=\"node1\" class=\"node\"><title>4</title>\n",
       "<ellipse fill=\"none\" stroke=\"black\" cx=\"22\" cy=\"-79.5\" rx=\"18\" ry=\"18\"/>\n",
       "<ellipse fill=\"none\" stroke=\"black\" cx=\"22\" cy=\"-79.5\" rx=\"22\" ry=\"22\"/>\n",
       "<text text-anchor=\"middle\" x=\"22\" y=\"-75.8\" font-family=\"Times,serif\" font-size=\"14.00\">4</text>\n",
       "</g>\n",
       "<!-- 24 -->\n",
       "<g id=\"node2\" class=\"node\"><title>24</title>\n",
       "<ellipse fill=\"none\" stroke=\"black\" cx=\"136.498\" cy=\"-107.5\" rx=\"19.4965\" ry=\"19.4965\"/>\n",
       "<text text-anchor=\"middle\" x=\"136.498\" y=\"-103.8\" font-family=\"Times,serif\" font-size=\"14.00\">24</text>\n",
       "</g>\n",
       "<!-- 4&#45;&gt;24 -->\n",
       "<g id=\"edge1\" class=\"edge\"><title>4&#45;&gt;24</title>\n",
       "<path fill=\"none\" stroke=\"red\" d=\"M43.6339,-84.6356C61.5674,-89.0991 87.7059,-95.6048 107.52,-100.536\"/>\n",
       "<polygon fill=\"red\" stroke=\"red\" points=\"106.679,-103.934 117.228,-102.953 108.369,-97.141 106.679,-103.934\"/>\n",
       "<text text-anchor=\"middle\" x=\"80.5\" y=\"-102.3\" font-family=\"Times,serif\" font-size=\"14.00\" fill=\"red\">x!</text>\n",
       "</g>\n",
       "<!-- 2 -->\n",
       "<g id=\"node11\" class=\"node\"><title>2</title>\n",
       "<ellipse fill=\"none\" stroke=\"black\" cx=\"136.498\" cy=\"-45.5\" rx=\"18\" ry=\"18\"/>\n",
       "<text text-anchor=\"middle\" x=\"136.498\" y=\"-41.8\" font-family=\"Times,serif\" font-size=\"14.00\">2</text>\n",
       "</g>\n",
       "<!-- 4&#45;&gt;2 -->\n",
       "<g id=\"edge11\" class=\"edge\"><title>4&#45;&gt;2</title>\n",
       "<path fill=\"none\" stroke=\"black\" d=\"M43.3726,-73.3429C61.813,-67.7697 89.0825,-59.5281 109.17,-53.457\"/>\n",
       "<polygon fill=\"black\" stroke=\"black\" points=\"110.376,-56.7491 118.936,-50.5057 108.351,-50.0484 110.376,-56.7491\"/>\n",
       "<text text-anchor=\"middle\" x=\"80.5\" y=\"-72.3\" font-family=\"Times,serif\" font-size=\"14.00\">sqrt(x)</text>\n",
       "</g>\n",
       "<!-- 6.204484e+23 -->\n",
       "<g id=\"node3\" class=\"node\"><title>6.204484e+23</title>\n",
       "<ellipse fill=\"none\" stroke=\"black\" cx=\"265.741\" cy=\"-142.5\" rx=\"61.99\" ry=\"61.99\"/>\n",
       "<text text-anchor=\"middle\" x=\"265.741\" y=\"-138.8\" font-family=\"Times,serif\" font-size=\"14.00\">6.204484e+23</text>\n",
       "</g>\n",
       "<!-- 24&#45;&gt;6.204484e+23 -->\n",
       "<g id=\"edge2\" class=\"edge\"><title>24&#45;&gt;6.204484e+23</title>\n",
       "<path fill=\"none\" stroke=\"red\" d=\"M155.459,-112.44C166.361,-115.439 181.044,-119.478 196.103,-123.62\"/>\n",
       "<polygon fill=\"red\" stroke=\"red\" points=\"195.448,-127.07 206.018,-126.347 197.305,-120.321 195.448,-127.07\"/>\n",
       "<text text-anchor=\"middle\" x=\"179.997\" y=\"-124.3\" font-family=\"Times,serif\" font-size=\"14.00\" fill=\"red\">x!</text>\n",
       "</g>\n",
       "<!-- L1 -->\n",
       "<g id=\"node4\" class=\"node\"><title>L1</title>\n",
       "<text text-anchor=\"middle\" x=\"462.23\" y=\"-185\" font-family=\"Times,serif\" font-size=\"50.00\">...</text>\n",
       "</g>\n",
       "<!-- 6.204484e+23&#45;&gt;L1 -->\n",
       "<g id=\"edge3\" class=\"edge\"><title>6.204484e+23&#45;&gt;L1</title>\n",
       "<path fill=\"none\" stroke=\"red\" d=\"M325.358,-159.076C357.733,-168.232 396.928,-179.316 424.884,-187.222\"/>\n",
       "<polygon fill=\"red\" stroke=\"red\" points=\"424.067,-190.628 434.642,-189.981 425.972,-183.892 424.067,-190.628\"/>\n",
       "<text text-anchor=\"middle\" x=\"363.986\" y=\"-178.3\" font-family=\"Times,serif\" font-size=\"14.00\" fill=\"red\">x!</text>\n",
       "</g>\n",
       "<!-- 7.876855e+11 -->\n",
       "<g id=\"node5\" class=\"node\"><title>7.876855e+11</title>\n",
       "<ellipse fill=\"none\" stroke=\"black\" cx=\"462.23\" cy=\"-86.5\" rx=\"61.99\" ry=\"61.99\"/>\n",
       "<text text-anchor=\"middle\" x=\"462.23\" y=\"-82.8\" font-family=\"Times,serif\" font-size=\"14.00\">7.876855e+11</text>\n",
       "</g>\n",
       "<!-- 6.204484e+23&#45;&gt;7.876855e+11 -->\n",
       "<g id=\"edge4\" class=\"edge\"><title>6.204484e+23&#45;&gt;7.876855e+11</title>\n",
       "<path fill=\"none\" stroke=\"black\" d=\"M325.358,-125.622C346.695,-119.479 370.995,-112.482 393.087,-106.121\"/>\n",
       "<polygon fill=\"black\" stroke=\"black\" points=\"394.092,-109.474 402.733,-103.343 392.155,-102.747 394.092,-109.474\"/>\n",
       "<text text-anchor=\"middle\" x=\"363.986\" y=\"-123.3\" font-family=\"Times,serif\" font-size=\"14.00\">sqrt(x)</text>\n",
       "</g>\n",
       "<!-- 887516.5 -->\n",
       "<g id=\"node6\" class=\"node\"><title>887516.5</title>\n",
       "<ellipse fill=\"none\" stroke=\"black\" cx=\"641.171\" cy=\"-86.5\" rx=\"44.393\" ry=\"44.393\"/>\n",
       "<text text-anchor=\"middle\" x=\"641.171\" y=\"-82.8\" font-family=\"Times,serif\" font-size=\"14.00\">887516.5</text>\n",
       "</g>\n",
       "<!-- 7.876855e+11&#45;&gt;887516.5 -->\n",
       "<g id=\"edge5\" class=\"edge\"><title>7.876855e+11&#45;&gt;887516.5</title>\n",
       "<path fill=\"none\" stroke=\"black\" d=\"M524.123,-86.5C544.468,-86.5 566.976,-86.5 586.712,-86.5\"/>\n",
       "<polygon fill=\"black\" stroke=\"black\" points=\"586.753,-90.0001 596.753,-86.5 586.753,-83.0001 586.753,-90.0001\"/>\n",
       "<text text-anchor=\"middle\" x=\"560.475\" y=\"-90.3\" font-family=\"Times,serif\" font-size=\"14.00\">sqrt(x)</text>\n",
       "</g>\n",
       "<!-- 942.1 -->\n",
       "<g id=\"node7\" class=\"node\"><title>942.1</title>\n",
       "<ellipse fill=\"none\" stroke=\"black\" cx=\"788.914\" cy=\"-86.5\" rx=\"30.5947\" ry=\"30.5947\"/>\n",
       "<text text-anchor=\"middle\" x=\"788.914\" y=\"-82.8\" font-family=\"Times,serif\" font-size=\"14.00\">942.1</text>\n",
       "</g>\n",
       "<!-- 887516.5&#45;&gt;942.1 -->\n",
       "<g id=\"edge6\" class=\"edge\"><title>887516.5&#45;&gt;942.1</title>\n",
       "<path fill=\"none\" stroke=\"black\" d=\"M685.504,-86.5C705.419,-86.5 728.877,-86.5 748.314,-86.5\"/>\n",
       "<polygon fill=\"black\" stroke=\"black\" points=\"748.36,-90.0001 758.36,-86.5 748.36,-83.0001 748.36,-90.0001\"/>\n",
       "<text text-anchor=\"middle\" x=\"721.867\" y=\"-90.3\" font-family=\"Times,serif\" font-size=\"14.00\">sqrt(x)</text>\n",
       "</g>\n",
       "<!-- 30.7 -->\n",
       "<g id=\"node8\" class=\"node\"><title>30.7</title>\n",
       "<ellipse fill=\"none\" stroke=\"black\" cx=\"919.109\" cy=\"-86.5\" rx=\"26.7961\" ry=\"26.7961\"/>\n",
       "<text text-anchor=\"middle\" x=\"919.109\" y=\"-82.8\" font-family=\"Times,serif\" font-size=\"14.00\">30.7</text>\n",
       "</g>\n",
       "<!-- 942.1&#45;&gt;30.7 -->\n",
       "<g id=\"edge7\" class=\"edge\"><title>942.1&#45;&gt;30.7</title>\n",
       "<path fill=\"none\" stroke=\"black\" d=\"M819.647,-86.5C838.33,-86.5 862.545,-86.5 882.285,-86.5\"/>\n",
       "<polygon fill=\"black\" stroke=\"black\" points=\"882.437,-90.0001 892.437,-86.5 882.436,-83.0001 882.437,-90.0001\"/>\n",
       "<text text-anchor=\"middle\" x=\"855.961\" y=\"-90.3\" font-family=\"Times,serif\" font-size=\"14.00\">sqrt(x)</text>\n",
       "</g>\n",
       "<!-- 5.5 -->\n",
       "<g id=\"node9\" class=\"node\"><title>5.5</title>\n",
       "<ellipse fill=\"none\" stroke=\"black\" cx=\"1040.85\" cy=\"-86.5\" rx=\"22.1965\" ry=\"22.1965\"/>\n",
       "<text text-anchor=\"middle\" x=\"1040.85\" y=\"-82.8\" font-family=\"Times,serif\" font-size=\"14.00\">5.5</text>\n",
       "</g>\n",
       "<!-- 30.7&#45;&gt;5.5 -->\n",
       "<g id=\"edge8\" class=\"edge\"><title>30.7&#45;&gt;5.5</title>\n",
       "<path fill=\"none\" stroke=\"black\" d=\"M945.797,-86.5C964.12,-86.5 988.866,-86.5 1008.38,-86.5\"/>\n",
       "<polygon fill=\"black\" stroke=\"black\" points=\"1008.6,-90.0001 1018.6,-86.5 1008.6,-83.0001 1008.6,-90.0001\"/>\n",
       "<text text-anchor=\"middle\" x=\"982.257\" y=\"-90.3\" font-family=\"Times,serif\" font-size=\"14.00\">sqrt(x)</text>\n",
       "</g>\n",
       "<!-- 5 -->\n",
       "<g id=\"node10\" class=\"node\"><title>5</title>\n",
       "<ellipse fill=\"none\" stroke=\"black\" cx=\"1163.95\" cy=\"-86.5\" rx=\"18\" ry=\"18\"/>\n",
       "<ellipse fill=\"none\" stroke=\"black\" cx=\"1163.95\" cy=\"-86.5\" rx=\"22\" ry=\"22\"/>\n",
       "<text text-anchor=\"middle\" x=\"1163.95\" y=\"-82.8\" font-family=\"Times,serif\" font-size=\"14.00\">5</text>\n",
       "</g>\n",
       "<!-- 5.5&#45;&gt;5 -->\n",
       "<g id=\"edge9\" class=\"edge\"><title>5.5&#45;&gt;5</title>\n",
       "<path fill=\"none\" stroke=\"black\" d=\"M1063.23,-86.5C1082.16,-86.5 1110.06,-86.5 1131.53,-86.5\"/>\n",
       "<polygon fill=\"black\" stroke=\"black\" points=\"1131.8,-90.0001 1141.8,-86.5 1131.8,-83.0001 1131.8,-90.0001\"/>\n",
       "<text text-anchor=\"middle\" x=\"1102.45\" y=\"-90.3\" font-family=\"Times,serif\" font-size=\"14.00\">floor(x)</text>\n",
       "</g>\n",
       "<!-- L2 -->\n",
       "<g id=\"node12\" class=\"node\"><title>L2</title>\n",
       "<text text-anchor=\"middle\" x=\"265.741\" y=\"-19\" font-family=\"Times,serif\" font-size=\"50.00\">...</text>\n",
       "</g>\n",
       "<!-- 2&#45;&gt;L2 -->\n",
       "<g id=\"edge10\" class=\"edge\"><title>2&#45;&gt;L2</title>\n",
       "<path fill=\"none\" stroke=\"black\" d=\"M154.659,-43.6119C173.332,-41.5574 203.745,-38.2111 227.878,-35.5559\"/>\n",
       "<polygon fill=\"black\" stroke=\"black\" points=\"228.563,-39.0017 238.12,-34.429 227.797,-32.0437 228.563,-39.0017\"/>\n",
       "</g>\n",
       "</g>\n",
       "</svg>\n"
      ],
      "text/plain": [
       "<graphviz.dot.Digraph at 0x7f3c5f6fdba8>"
      ]
     },
     "execution_count": 17,
     "metadata": {},
     "output_type": "execute_result"
    }
   ],
   "source": [
    "kg = Digraph(comment='DFS is Incomplete')\n",
    "kg.attr(rankdir='LR')\n",
    "\n",
    "f4 = str(factorial(4))\n",
    "ff4 = f'{factorial(factorial(4)):e}'\n",
    "sff4 = f'{sqrtn(factorial(factorial(4)), 1):e}'\n",
    "ssff4 = f'{sqrtn(factorial(factorial(4)), 2):.1f}'\n",
    "sssff4 = f'{sqrtn(factorial(factorial(4)), 3):.1f}'\n",
    "ssssff4 = f'{sqrtn(factorial(factorial(4)), 4):.1f}'\n",
    "sssssff4 = f'{sqrtn(factorial(factorial(4)), 5):.1f}'\n",
    "\n",
    "kg.node('4', shape='doublecircle')\n",
    "kg.node(f4, shape='circle')\n",
    "kg.node(ff4, shape='circle')\n",
    "kg.node('L1', '...', shape='plaintext', fontsize='50')\n",
    "kg.node(sff4, shape='circle')\n",
    "kg.node(ssff4, shape='circle')\n",
    "kg.node(sssff4, shape='circle')\n",
    "kg.node(ssssff4, shape='circle')\n",
    "kg.node(sssssff4, shape='circle')\n",
    "kg.node('5', shape='doublecircle')\n",
    "\n",
    "kg.edge('4', f4, label='x!', color='red', fontcolor='red')\n",
    "kg.edge(f4, ff4, label='x!', color='red', fontcolor='red')\n",
    "kg.edge(ff4, 'L1', label='x!', color='red', fontcolor='red')\n",
    "kg.edge(ff4, sff4, label='sqrt(x)')\n",
    "kg.edge(sff4, ssff4, label='sqrt(x)')\n",
    "kg.edge(ssff4, sssff4, label='sqrt(x)')\n",
    "kg.edge(sssff4, ssssff4, label='sqrt(x)')\n",
    "kg.edge(ssssff4, sssssff4, label='sqrt(x)')\n",
    "kg.edge(sssssff4, '5', label='floor(x)')\n",
    "\n",
    "kg.node('2', shape='circle')\n",
    "kg.node('L2', '...', shape='plaintext', fontsize='50')\n",
    "kg.edge('2', 'L2')\n",
    "kg.edge('4', '2', label='sqrt(x)')\n",
    "\n",
    "kg"
   ]
  },
  {
   "cell_type": "markdown",
   "metadata": {
    "heading_collapsed": true
   },
   "source": [
    "### Rubik's Cube"
   ]
  },
  {
   "cell_type": "markdown",
   "metadata": {
    "hidden": true
   },
   "source": [
    "#### Problem"
   ]
  },
  {
   "cell_type": "markdown",
   "metadata": {
    "ExecuteTime": {
     "end_time": "2018-02-24T22:56:37.255011Z",
     "start_time": "2018-02-24T22:56:37.051325Z"
    },
    "hidden": true
   },
   "source": [
    "![rubik 2x2](./images/2x2-stage4-position.jpg)"
   ]
  },
  {
   "cell_type": "markdown",
   "metadata": {
    "ExecuteTime": {
     "end_time": "2018-02-24T22:57:07.892474Z",
     "start_time": "2018-02-24T22:57:07.700896Z"
    },
    "hidden": true
   },
   "source": [
    "![rubik 2x2 faces](./images/2x2-Faces.jpg)"
   ]
  },
  {
   "cell_type": "markdown",
   "metadata": {
    "ExecuteTime": {
     "end_time": "2018-02-24T22:57:23.884576Z",
     "start_time": "2018-02-24T22:57:23.694445Z"
    },
    "hidden": true
   },
   "source": [
    "![rubik 2x2 moves](./images/2x2-moves.jpg)"
   ]
  },
  {
   "cell_type": "markdown",
   "metadata": {
    "hidden": true
   },
   "source": [
    "** [photoes source](https://www.youcandothecube.com/solve-it/2-x-2-solution)"
   ]
  },
  {
   "cell_type": "markdown",
   "metadata": {
    "hidden": true
   },
   "source": [
    "#### Formulation"
   ]
  },
  {
   "cell_type": "code",
   "execution_count": 18,
   "metadata": {
    "ExecuteTime": {
     "end_time": "2018-02-25T09:07:57.780478Z",
     "start_time": "2018-02-25T09:07:57.434380Z"
    },
    "hidden": true
   },
   "outputs": [],
   "source": [
    "Cube = namedtuple('Cube', 'left right up down front back')\n",
    "\n",
    "goal_cube = Cube(\n",
    "    left=(('R', 'R'), ('R', 'R')),\n",
    "    right=(('O', 'O'), ('O', 'O')),\n",
    "    up=(('W', 'W'), ('W', 'W')),\n",
    "    down=(('Y', 'Y'), ('Y', 'Y')),\n",
    "    front=(('B', 'B'), ('B', 'B')),\n",
    "    back=(('G', 'G'), ('G', 'G')),\n",
    ")\n",
    "\n",
    "color_codes = {\n",
    "    'G': 0 * 1/7,\n",
    "    'R': 1 * 1/7,\n",
    "    'O': 2 * 1/7,\n",
    "    'W': 3 * 1/7,\n",
    "    'Y': 4 * 1/7,\n",
    "    'B': 5 * 1/7,\n",
    "    'G': 6 * 1/7,\n",
    "}\n",
    "\n",
    "cmap = mcolors.ListedColormap([\n",
    "    'grey',\n",
    "    'red',\n",
    "    'orange',\n",
    "    'white',\n",
    "    'yellow',\n",
    "    'blue',\n",
    "    'green'\n",
    "])\n",
    "\n",
    "def rotate_up(cube):\n",
    "    return Cube(\n",
    "        left=cube.left,\n",
    "        right=cube.right,\n",
    "        up=cube.front,\n",
    "        down=cube.back,\n",
    "        front=cube.down,\n",
    "        back=cube.up,\n",
    "    )\n",
    "\n",
    "def rotate_down(cube):\n",
    "    return Cube(\n",
    "        left=cube.left,\n",
    "        right=cube.right,\n",
    "        up=cube.back,\n",
    "        down=cube.front,\n",
    "        front=cube.up,\n",
    "        back=cube.down,\n",
    "    )\n",
    "\n",
    "def rotate_right(cube):\n",
    "    return Cube(\n",
    "        left=cube.back,\n",
    "        right=cube.front,\n",
    "        up=cube.up,\n",
    "        down=cube.down,\n",
    "        front=cube.left,\n",
    "        back=cube.right,\n",
    "    )\n",
    "\n",
    "def rotate_left(cube):\n",
    "    return Cube(\n",
    "        left=cube.front,\n",
    "        right=cube.back,\n",
    "        up=cube.up,\n",
    "        down=cube.down,\n",
    "        front=cube.right,\n",
    "        back=cube.left,\n",
    "    )\n",
    "\n",
    "def rotate_face_right(face):\n",
    "    (a, b), (c, d) = face\n",
    "    return (d, a), (b, c)\n",
    "\n",
    "def perform_F(cube):\n",
    "    up = list(cube.up)\n",
    "    down = list(cube.down)\n",
    "    left_t = list(zip(*cube.left))\n",
    "    right_t = list(zip(*cube.right))\n",
    "    \n",
    "    up[1], left_t[1] = left_t[1], up[1]\n",
    "    left_t[1], down[0] = down[0], left_t[1]\n",
    "    down[0], right_t[0] = right_t[0], down[0]\n",
    "    \n",
    "    return Cube(\n",
    "        left=tuple(zip(*left_t)),\n",
    "        right=tuple(zip(*right_t)),\n",
    "        up=tuple(up),\n",
    "        down=tuple(down),\n",
    "        front=rotate_face_right(cube.front),\n",
    "        back=cube.back,\n",
    "    )\n",
    "\n",
    "def to_arr(box):\n",
    "    (ul, ur), (ll, lr) = box\n",
    "    return np.array([\n",
    "        [color_codes[ll], color_codes[lr]],\n",
    "        [color_codes[ul], color_codes[ur]]\n",
    "    ])\n",
    "\n",
    "def plot_cube(cube):\n",
    "    mat = np.zeros((8, 6))\n",
    "    mat[6:8, 2:4] = to_arr(cube.up)\n",
    "    mat[4:6, 0:2] = to_arr(cube.left)\n",
    "    mat[4:6, 2:4] = to_arr(cube.front)\n",
    "    mat[4:6, 4:6] = to_arr(cube.right)\n",
    "    mat[2:4, 2:4] = to_arr(cube.down)\n",
    "    mat[0:2, 2:4] = to_arr(cube.back)\n",
    "    \n",
    "    plt.grid(True)\n",
    "    plt.xticks(np.linspace(-.5, 5.5, 7))\n",
    "    plt.yticks(np.linspace(-.5, 7.5, 9))\n",
    "    plt.gca().set_xticklabels([])\n",
    "    plt.gca().set_yticklabels([])\n",
    "    plt.xlim([-.5, 5.5])\n",
    "    plt.ylim([-.5, 7.5])\n",
    "    plt.imshow(mat, cmap=cmap, vmin=0, vmax=1, interpolation='nearest')"
   ]
  },
  {
   "cell_type": "code",
   "execution_count": 19,
   "metadata": {
    "ExecuteTime": {
     "end_time": "2018-02-25T09:07:57.836576Z",
     "start_time": "2018-02-25T09:07:57.782394Z"
    },
    "hidden": true
   },
   "outputs": [],
   "source": [
    "class RubliksCube:\n",
    "    def __init__(self, difficulty=100):\n",
    "        state = goal_cube\n",
    "        for i in range(difficulty):\n",
    "            actions = self.actions(state)\n",
    "            action = random.choice(actions)\n",
    "            state = self.result(state, action)\n",
    "        self.initial = state\n",
    "    \n",
    "    def initial_state(self):\n",
    "        return self.initial\n",
    "\n",
    "    def actions(self, state):\n",
    "        return [\n",
    "            'rotate_left',\n",
    "            'rotate_right',\n",
    "            'rotate_up',\n",
    "            'rotate_down',\n",
    "            'perform_F'\n",
    "        ]\n",
    "        \n",
    "    def result(self, state, action):\n",
    "        if action == 'perform_F':\n",
    "            return perform_F(state)\n",
    "        if action == 'rotate_left':\n",
    "            return rotate_left(state)\n",
    "        if action == 'rotate_right':\n",
    "            return rotate_right(state)\n",
    "        if action == 'rotate_up':\n",
    "            return rotate_up(state)\n",
    "        if action == 'rotate_down':\n",
    "            return rotate_down(state)\n",
    "        raise Exception(f'Invalid Action \"{action}\"!')\n",
    "        \n",
    "    def step_cost(self, start, action, end):\n",
    "        return 1\n",
    "\n",
    "    def goal_test(self, state):\n",
    "        return state == goal_cube"
   ]
  },
  {
   "cell_type": "code",
   "execution_count": 20,
   "metadata": {
    "ExecuteTime": {
     "end_time": "2018-02-25T09:07:58.203567Z",
     "start_time": "2018-02-25T09:07:58.072110Z"
    },
    "hidden": true
   },
   "outputs": [
    {
     "data": {
      "image/png": "[encoded data removed]",
      "text/plain": [
       "<matplotlib.figure.Figure at 0x7f3c5f6e3d30>"
      ]
     },
     "metadata": {},
     "output_type": "display_data"
    }
   ],
   "source": [
    "plot_cube(RubliksCube().initial_state())"
   ]
  },
  {
   "cell_type": "code",
   "execution_count": 21,
   "metadata": {
    "ExecuteTime": {
     "end_time": "2018-02-25T09:07:58.560534Z",
     "start_time": "2018-02-25T09:07:58.408532Z"
    },
    "hidden": true
   },
   "outputs": [
    {
     "data": {
      "image/png": "[encoded data removed]",
      "text/plain": [
       "<matplotlib.figure.Figure at 0x7f3c56dd34a8>"
      ]
     },
     "metadata": {},
     "output_type": "display_data"
    }
   ],
   "source": [
    "plot_cube(goal_cube)"
   ]
  },
  {
   "cell_type": "markdown",
   "metadata": {
    "heading_collapsed": true,
    "hidden": true
   },
   "source": [
    "#### Challenge"
   ]
  },
  {
   "cell_type": "code",
   "execution_count": null,
   "metadata": {
    "hidden": true
   },
   "outputs": [],
   "source": []
  },
  {
   "cell_type": "markdown",
   "metadata": {},
   "source": [
    "### Romania Navigation"
   ]
  },
  {
   "cell_type": "markdown",
   "metadata": {},
   "source": [
    "#### Problem"
   ]
  },
  {
   "cell_type": "code",
   "execution_count": 14,
   "metadata": {
    "ExecuteTime": {
     "end_time": "2018-03-04T07:15:54.022388Z",
     "start_time": "2018-03-04T07:15:53.549020Z"
    }
   },
   "outputs": [
    {
     "data": {
      "image/png": "[encoded data removed]",
      "text/plain": [
       "<matplotlib.figure.Figure at 0x7f107ee6f7f0>"
      ]
     },
     "metadata": {},
     "output_type": "display_data"
    }
   ],
   "source": [
    "romania_map = dict(\n",
    "    Arad=dict(Zerind=75, Sibiu=140, Timisoara=118),\n",
    "    Bucharest=dict(Urziceni=85, Pitesti=101, Giurgiu=90, Fagaras=211),\n",
    "    Craiova=dict(Drobeta=120, Rimnicu=146, Pitesti=138),\n",
    "    Drobeta=dict(Mehadia=75),\n",
    "    Eforie=dict(Hirsova=86),\n",
    "    Fagaras=dict(Sibiu=99),\n",
    "    Hirsova=dict(Urziceni=98),\n",
    "    Iasi=dict(Vaslui=92, Neamt=87),\n",
    "    Lugoj=dict(Timisoara=111, Mehadia=70),\n",
    "    Oradea=dict(Zerind=71, Sibiu=151),\n",
    "    Pitesti=dict(Rimnicu=97),\n",
    "    Rimnicu=dict(Sibiu=80),\n",
    "    Urziceni=dict(Vaslui=142))\n",
    "\n",
    "plt.figure(figsize=[12, 12])\n",
    "\n",
    "g = nx.Graph()\n",
    "\n",
    "nodes = set(romania_map.keys())\n",
    "nodes |= set(y for x in romania_map.values() for y in x.keys())\n",
    "nodes = list(nodes)\n",
    "edges = [(s, d, w) for s, e in romania_map.items() for d, w in e.items()]\n",
    "\n",
    "g.add_nodes_from(nodes)\n",
    "g.add_weighted_edges_from(edges)\n",
    "\n",
    "pos = nx.layout.kamada_kawai_layout(g)\n",
    "\n",
    "nx.draw(\n",
    "    g, \n",
    "    pos,\n",
    "    with_labels=True,\n",
    "    node_size=2000, \n",
    "    node_color='yellow'\n",
    ")\n",
    "nx.draw_networkx_edge_labels(\n",
    "    g,\n",
    "    pos,\n",
    "    edge_labels={\n",
    "        (s, d): w\n",
    "        for s, d, w\n",
    "        in edges\n",
    "    }\n",
    ");"
   ]
  },
  {
   "cell_type": "markdown",
   "metadata": {},
   "source": [
    "#### Formulation"
   ]
  },
  {
   "cell_type": "code",
   "execution_count": 15,
   "metadata": {
    "ExecuteTime": {
     "end_time": "2018-03-04T07:15:55.866718Z",
     "start_time": "2018-03-04T07:15:55.861349Z"
    }
   },
   "outputs": [],
   "source": [
    "romania_adj = defaultdict(dict)\n",
    "for source, adjs in romania_map.items():\n",
    "    for dest, weight in adjs.items():\n",
    "        romania_adj[source][dest] = weight\n",
    "        romania_adj[dest][source] = weight"
   ]
  },
  {
   "cell_type": "code",
   "execution_count": 16,
   "metadata": {
    "ExecuteTime": {
     "end_time": "2018-03-04T07:15:56.533387Z",
     "start_time": "2018-03-04T07:15:56.505836Z"
    }
   },
   "outputs": [],
   "source": [
    "class RomaniaNavigation:\n",
    "    def __init__(self, source='Arad', dest='Bucharest'):\n",
    "        assert source in romania_adj\n",
    "        assert dest in romania_adj\n",
    "        self.source = source\n",
    "        self.dest = dest\n",
    "    \n",
    "    def initial_state(self):\n",
    "        return self.source\n",
    "\n",
    "    def actions(self, state):\n",
    "        return list(romania_adj[state].items())\n",
    "        \n",
    "    def result(self, state, action):\n",
    "        target, cost = action\n",
    "        return target\n",
    "        \n",
    "    def step_cost(self, start, action, end):\n",
    "        target, cost = action\n",
    "        return cost\n",
    "\n",
    "    def goal_test(self, state):\n",
    "        return state == self.dest"
   ]
  },
  {
   "cell_type": "code",
   "execution_count": 17,
   "metadata": {
    "ExecuteTime": {
     "end_time": "2018-03-04T07:15:57.515098Z",
     "start_time": "2018-03-04T07:15:57.508193Z"
    }
   },
   "outputs": [
    {
     "data": {
      "text/plain": [
       "['Arad',\n",
       " 'Zerind',\n",
       " 'Sibiu',\n",
       " 'Timisoara',\n",
       " 'Oradea',\n",
       " 'Fagaras',\n",
       " 'Rimnicu',\n",
       " 'Lugoj',\n",
       " 'Bucharest',\n",
       " 'Craiova',\n",
       " 'Pitesti',\n",
       " 'Mehadia',\n",
       " 'Urziceni',\n",
       " 'Giurgiu',\n",
       " 'Drobeta',\n",
       " 'Hirsova',\n",
       " 'Vaslui',\n",
       " 'Eforie',\n",
       " 'Iasi',\n",
       " 'Neamt']"
      ]
     },
     "execution_count": 17,
     "metadata": {},
     "output_type": "execute_result"
    }
   ],
   "source": [
    "space(RomaniaNavigation())"
   ]
  },
  {
   "cell_type": "markdown",
   "metadata": {},
   "source": [
    "## Searching for Solutions"
   ]
  },
  {
   "cell_type": "markdown",
   "metadata": {},
   "source": [
    "### Node, Queue, Stack"
   ]
  },
  {
   "cell_type": "code",
   "execution_count": 12,
   "metadata": {
    "ExecuteTime": {
     "end_time": "2018-03-04T07:37:44.244072Z",
     "start_time": "2018-03-04T07:37:44.204192Z"
    }
   },
   "outputs": [],
   "source": [
    "Node = namedtuple('Node', 'state parent action path_cost')\n",
    "Solution = namedtuple('Solution', 'state solution cost num_expanded max_memory')\n",
    "\n",
    "def child_node(problem, parent, action):\n",
    "    state = problem.result(parent.state, action)\n",
    "    return Node(\n",
    "        state=state,\n",
    "        parent=parent,\n",
    "        action=action,\n",
    "        path_cost=parent.path_cost + problem.step_cost(parent.state, action, state)\n",
    "    )\n",
    "\n",
    "def initial_node(problem):\n",
    "    return Node(problem.initial_state(), None, None, 0)\n",
    "\n",
    "def solution(node, num_expanded=None, max_memory=None):\n",
    "    solution = []\n",
    "    curr = node\n",
    "    while True:\n",
    "        if curr.parent is None:\n",
    "            break\n",
    "        solution.append(curr.action)\n",
    "        curr = curr.parent\n",
    "    solution.reverse()\n",
    "    \n",
    "    return Solution(\n",
    "        state=node.state,\n",
    "        solution=solution,\n",
    "        cost=node.path_cost,\n",
    "        num_expanded=num_expanded,\n",
    "        max_memory=max_memory\n",
    "    )"
   ]
  },
  {
   "cell_type": "code",
   "execution_count": 16,
   "metadata": {
    "ExecuteTime": {
     "end_time": "2018-03-04T07:37:56.056766Z",
     "start_time": "2018-03-04T07:37:56.032071Z"
    }
   },
   "outputs": [],
   "source": [
    "class Stack:\n",
    "    def __init__(self):\n",
    "        self._data = []\n",
    "        self.states = set()\n",
    "        \n",
    "    def __bool__(self):\n",
    "        return bool(self._data)\n",
    "    \n",
    "    def pop(self):\n",
    "        node = self._data.pop()\n",
    "        self.states.remove(node.state)\n",
    "        return node\n",
    "    \n",
    "    def insert(self, node):\n",
    "        self.states.add(node.state)\n",
    "        return self._data.append(node)\n",
    "    \n",
    "    def __len__(self):\n",
    "        return len(self._data)\n",
    "    \n",
    "    def __repr__(self):\n",
    "        return f'Stack({list(self._data)!r})'"
   ]
  },
  {
   "cell_type": "code",
   "execution_count": 15,
   "metadata": {
    "ExecuteTime": {
     "end_time": "2018-03-04T07:37:54.759100Z",
     "start_time": "2018-03-04T07:37:54.733757Z"
    }
   },
   "outputs": [],
   "source": [
    "class Queue:\n",
    "    def __init__(self):\n",
    "        self._data = deque()\n",
    "        self.states = set()\n",
    "    \n",
    "    def __bool__(self):\n",
    "        return bool(self._data)\n",
    "    \n",
    "    def pop(self):\n",
    "        node = self._data.popleft()\n",
    "        self.states.remove(node.state)\n",
    "        return node\n",
    "    \n",
    "    def insert(self, node):\n",
    "        self.states.add(node.state)\n",
    "        return self._data.append(node)\n",
    "    \n",
    "    def __len__(self):\n",
    "        return len(self._data)\n",
    "    \n",
    "    def __repr__(self):\n",
    "        return f'Queue({list(self._data)!r})'"
   ]
  },
  {
   "cell_type": "code",
   "execution_count": 31,
   "metadata": {
    "ExecuteTime": {
     "end_time": "2018-03-04T07:40:28.636816Z",
     "start_time": "2018-03-04T07:40:28.555191Z"
    }
   },
   "outputs": [],
   "source": [
    "class PriorityQueue:\n",
    "    def __init__(self, key):\n",
    "        def negated_key(*args, **kwargs):\n",
    "            return -key(*args, **kwargs)\n",
    "        self._data = ValueSortedDict(negated_key)\n",
    "        self.states = set()\n",
    "    \n",
    "    def __bool__(self):\n",
    "        return bool(self._data)\n",
    "    \n",
    "    def pop(self):\n",
    "        state, node = self._data.popitem()\n",
    "        self.states.remove(state)\n",
    "        return node\n",
    "    \n",
    "    def insert(self, node):\n",
    "        self.states.add(node.state)\n",
    "        self._data[node.state] = node\n",
    "    \n",
    "    def __len__(self):\n",
    "        return len(self._data)\n",
    "    \n",
    "    def __repr__(self):\n",
    "        return f'PriorityQueue({list(self._data)!r})'"
   ]
  },
  {
   "cell_type": "markdown",
   "metadata": {},
   "source": [
    "### Measuring problem solving performance"
   ]
  },
  {
   "cell_type": "markdown",
   "metadata": {
    "ExecuteTime": {
     "end_time": "2018-02-24T23:01:09.021108Z",
     "start_time": "2018-02-24T23:01:09.014460Z"
    }
   },
   "source": [
    "* Completeness\n",
    "* Optimality\n",
    "* Time complexity\n",
    "* Space complexity\n",
    "* Branching factor\n",
    "* Depth\n",
    "* Search Cost\n",
    "* Total Cost"
   ]
  },
  {
   "cell_type": "markdown",
   "metadata": {},
   "source": [
    "## Uninformed Search"
   ]
  },
  {
   "cell_type": "markdown",
   "metadata": {},
   "source": [
    "Informed search vs uninformed search"
   ]
  },
  {
   "cell_type": "code",
   "execution_count": 32,
   "metadata": {
    "ExecuteTime": {
     "end_time": "2018-03-04T07:40:31.425948Z",
     "start_time": "2018-03-04T07:40:31.348921Z"
    },
    "code_folding": [
     16
    ]
   },
   "outputs": [],
   "source": [
    "def tree_search(problem, frontier):\n",
    "    node = initial_node(problem)\n",
    "    if problem.goal_test(node):\n",
    "        return solution(node)\n",
    "    frontier.insert(node)\n",
    "    while frontier:        \n",
    "        node = frontier.pop()\n",
    "        if problem.goal_test(node.state):\n",
    "            return solution(node)\n",
    "        for action in problem.actions(node.state):\n",
    "            child = child_node(problem, node, action)\n",
    "            if cost_limit and (child.path_cost >= cost_limit):\n",
    "                continue\n",
    "            frontier.insert(child)\n",
    "\n",
    "\n",
    "def tree_search(problem, frontier, cost_limit=None):\n",
    "    num_expanded = 0\n",
    "    max_memory = 0\n",
    "    \n",
    "    node = initial_node(problem)\n",
    "    if problem.goal_test(node):\n",
    "        return solution(\n",
    "            node,\n",
    "            num_expanded=num_expanded,\n",
    "            max_memory=max_memory\n",
    "        )\n",
    "    \n",
    "    frontier.insert(node)\n",
    "    \n",
    "    while frontier:\n",
    "        max_memory = max(max_memory, len(frontier))\n",
    "        \n",
    "        node = frontier.pop()\n",
    "        if problem.goal_test(node.state):\n",
    "            return solution(\n",
    "                node,\n",
    "                num_expanded=num_expanded,\n",
    "                max_memory=max_memory\n",
    "            )\n",
    "        \n",
    "        num_expanded += 1\n",
    "        for action in problem.actions(node.state):\n",
    "            child = child_node(problem, node, action)\n",
    "            if cost_limit and (child.path_cost >= cost_limit):\n",
    "                continue\n",
    "            frontier.insert(child)"
   ]
  },
  {
   "cell_type": "code",
   "execution_count": 69,
   "metadata": {
    "ExecuteTime": {
     "end_time": "2018-03-04T07:53:44.033133Z",
     "start_time": "2018-03-04T07:53:43.917103Z"
    },
    "code_folding": [
     19
    ]
   },
   "outputs": [],
   "source": [
    "def graph_search(problem, frontier):\n",
    "    node = initial_node(problem)\n",
    "    if problem.goal_test(node):\n",
    "        return solution(node)\n",
    "    explored = set()\n",
    "    frontier.insert(node)\n",
    "    while frontier:   \n",
    "        node = frontier.pop()\n",
    "        if problem.goal_test(node.state):\n",
    "            return solution(node)\n",
    "        explored.add(node.state)        \n",
    "        for action in problem.actions(node.state):\n",
    "            child = child_node(problem, node, action)\n",
    "            if cost_limit and (child.path_cost >= cost_limit):\n",
    "                continue\n",
    "            if (child.state not in explored) and (child.state not in frontier.states):\n",
    "                frontier.insert(child)\n",
    "\n",
    "\n",
    "def graph_search(problem, frontier, cost_limit=None):\n",
    "    num_expanded = 0\n",
    "    max_memory = 0\n",
    "    \n",
    "    node = initial_node(problem)\n",
    "    if problem.goal_test(node):\n",
    "        return solution(\n",
    "            node,\n",
    "            num_expanded=num_expanded,\n",
    "            max_memory=max_memory\n",
    "        )\n",
    "    \n",
    "    explored = set()\n",
    "    frontier.insert(node)\n",
    "    \n",
    "    while frontier:   \n",
    "        max_memory = max(max_memory, len(frontier) + len(explored))\n",
    "        \n",
    "        node = frontier.pop()\n",
    "\n",
    "        if problem.goal_test(node.state):\n",
    "            return solution(\n",
    "                node,\n",
    "                num_expanded=num_expanded,\n",
    "                max_memory=max_memory\n",
    "            )\n",
    "        explored.add(node.state)\n",
    "        \n",
    "        num_expanded += 1\n",
    "        for action in problem.actions(node.state):\n",
    "            child = child_node(problem, node, action)\n",
    "            if cost_limit and (child.path_cost >= cost_limit):\n",
    "                continue\n",
    "            if (child.state not in explored) and (child.state not in frontier.states):\n",
    "                frontier.insert(child)"
   ]
  },
  {
   "cell_type": "code",
   "execution_count": 39,
   "metadata": {
    "ExecuteTime": {
     "end_time": "2018-03-04T07:40:57.938624Z",
     "start_time": "2018-03-04T07:40:57.927012Z"
    },
    "code_folding": []
   },
   "outputs": [],
   "source": [
    "def dfs_search(problem, graph=False):\n",
    "    return graph_search(problem, Stack()) if graph else tree_search(problem, Stack())\n",
    "\n",
    "\n",
    "def bfs_search(problem, graph=False):\n",
    "    return graph_search(problem, Queue()) if graph else tree_search(problem, Queue())\n",
    "\n",
    "\n",
    "def dls_search(problem, cost_limit, graph=False):\n",
    "    return graph_search(problem, Stack(), cost_limit=cost_limit) \\\n",
    "        if graph \\\n",
    "        else tree_search(problem, Stack(), cost_limit=cost_limit) "
   ]
  },
  {
   "cell_type": "markdown",
   "metadata": {},
   "source": [
    "### Informed Search"
   ]
  },
  {
   "cell_type": "markdown",
   "metadata": {},
   "source": [
    "#### Best-first search "
   ]
  },
  {
   "cell_type": "code",
   "execution_count": null,
   "metadata": {},
   "outputs": [],
   "source": [
    "def best_first_search(problem, heuristic, graph=False):\n",
    "    return graph_search(problem, PriorityQueue(key=heuristic))\n",
    "\n",
    "\n",
    "def ucs_search(problem, graph=False):\n",
    "    def path_cost_heuristic(x):\n",
    "        return x.path_cost\n",
    "    \n",
    "    return best_first_search(problem, path_cost_heuristic, graph=graph)"
   ]
  },
  {
   "cell_type": "markdown",
   "metadata": {
    "ExecuteTime": {
     "end_time": "2018-03-04T08:31:46.783500Z",
     "start_time": "2018-03-04T08:31:46.779246Z"
    }
   },
   "source": [
    "#### Greedy best-first search"
   ]
  },
  {
   "cell_type": "code",
   "execution_count": 82,
   "metadata": {
    "ExecuteTime": {
     "end_time": "2018-03-04T08:18:04.962999Z",
     "start_time": "2018-03-04T08:18:04.937484Z"
    }
   },
   "outputs": [],
   "source": [
    "def greedy_search(problem, heuristic, graph=False):\n",
    "    def greedy_heuristic(x):\n",
    "        return heuristic(x.state)\n",
    "    return best_first_search(problem, greedy_heuristic, graph=graph)\n",
    "\n",
    "\n",
    "def a_star_search(problem, heuristic, graph=False):\n",
    "    def a_star_heuristic(x):\n",
    "        return x.path_cost + heuristic(x.state)\n",
    "    return best_first_search(problem, a_star_heuristic, graph=graph)"
   ]
  },
  {
   "cell_type": "markdown",
   "metadata": {},
   "source": [
    "#### Heuristic function"
   ]
  },
  {
   "cell_type": "code",
   "execution_count": 100,
   "metadata": {
    "ExecuteTime": {
     "end_time": "2018-03-04T09:12:03.685216Z",
     "start_time": "2018-03-04T09:12:03.680006Z"
    }
   },
   "outputs": [],
   "source": [
    "def sliding_puzzle_misplacements(state):\n",
    "    p_ = [cell for row in state for cell in row]\n",
    "    p = list(range(1, 9)) + [0]\n",
    "    return sum(1 for x, y in zip(p, p_) if x != y)"
   ]
  },
  {
   "cell_type": "code",
   "execution_count": 102,
   "metadata": {
    "ExecuteTime": {
     "end_time": "2018-03-04T09:12:17.622992Z",
     "start_time": "2018-03-04T09:12:16.066832Z"
    }
   },
   "outputs": [
    {
     "data": {
      "text/plain": [
       "Solution(state=((1, 2, 3), (4, 5, 6), (7, 8, 0)), solution=[((1, 1), (2, 1)), ((2, 1), (2, 2)), ((2, 2), (1, 2)), ((1, 2), (1, 1)), ((1, 1), (1, 0)), ((1, 0), (0, 0)), ((0, 0), (0, 1)), ((0, 1), (0, 2)), ((0, 2), (1, 2)), ((1, 2), (1, 1)), ((1, 1), (2, 1)), ((2, 1), (2, 0)), ((2, 0), (1, 0)), ((1, 0), (1, 1)), ((1, 1), (0, 1)), ((0, 1), (0, 0)), ((0, 0), (1, 0)), ((1, 0), (1, 1)), ((1, 1), (1, 2)), ((1, 2), (2, 2))], cost=20, num_expanded=47864, max_memory=66607)"
      ]
     },
     "execution_count": 102,
     "metadata": {},
     "output_type": "execute_result"
    }
   ],
   "source": [
    "bfs_search(SlidingPuzzle(), graph=True)"
   ]
  },
  {
   "cell_type": "code",
   "execution_count": 101,
   "metadata": {
    "ExecuteTime": {
     "end_time": "2018-03-04T09:12:04.879638Z",
     "start_time": "2018-03-04T09:12:04.728296Z"
    }
   },
   "outputs": [
    {
     "data": {
      "text/plain": [
       "Solution(state=((1, 2, 3), (4, 5, 6), (7, 8, 0)), solution=[((1, 1), (2, 1)), ((2, 1), (2, 2)), ((2, 2), (1, 2)), ((1, 2), (1, 1)), ((1, 1), (1, 0)), ((1, 0), (0, 0)), ((0, 0), (0, 1)), ((0, 1), (0, 2)), ((0, 2), (1, 2)), ((1, 2), (1, 1)), ((1, 1), (2, 1)), ((2, 1), (2, 0)), ((2, 0), (1, 0)), ((1, 0), (1, 1)), ((1, 1), (0, 1)), ((0, 1), (0, 0)), ((0, 0), (1, 0)), ((1, 0), (1, 1)), ((1, 1), (1, 2)), ((1, 2), (2, 2))], cost=20, num_expanded=2777, max_memory=4326)"
      ]
     },
     "execution_count": 101,
     "metadata": {},
     "output_type": "execute_result"
    }
   ],
   "source": [
    "a_star_search(SlidingPuzzle(), sliding_puzzle_misplacements, graph=True)"
   ]
  },
  {
   "cell_type": "markdown",
   "metadata": {},
   "source": [
    "* Absolute error\n",
    "* Relative error\n",
    "* Tree: $O(b^\\delta)$\n",
    "* Constant Step Size: $O(b^{\\epsilon d})$"
   ]
  },
  {
   "cell_type": "markdown",
   "metadata": {},
   "source": [
    "#### Heuristic Function Conditions"
   ]
  },
  {
   "cell_type": "markdown",
   "metadata": {},
   "source": [
    "* Admissible\n",
    "* Consistent"
   ]
  },
  {
   "cell_type": "markdown",
   "metadata": {},
   "source": [
    "#### Memory-bounded heuristic search"
   ]
  },
  {
   "cell_type": "markdown",
   "metadata": {},
   "source": [
    "* IDA*\n",
    "* RBFS\n",
    "* SMA*"
   ]
  }
 ],
 "metadata": {
  "kernelspec": {
   "display_name": "Python 3",
   "language": "python",
   "name": "python3"
  },
  "language_info": {
   "codemirror_mode": {
    "name": "ipython",
    "version": 3
   },
   "file_extension": ".py",
   "mimetype": "text/x-python",
   "name": "python",
   "nbconvert_exporter": "python",
   "pygments_lexer": "ipython3",
   "version": "3.6.4"
  },
  "toc": {
   "nav_menu": {},
   "number_sections": true,
   "sideBar": true,
   "skip_h1_title": false,
   "title_cell": "Table of Contents",
   "title_sidebar": "Contents",
   "toc_cell": false,
   "toc_position": {},
   "toc_section_display": true,
   "toc_window_display": false
  }
 },
 "nbformat": 4,
 "nbformat_minor": 2
}
